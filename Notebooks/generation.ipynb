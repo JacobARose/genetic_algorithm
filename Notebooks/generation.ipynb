{
 "cells": [
  {
   "cell_type": "code",
   "execution_count": 1,
   "metadata": {},
   "outputs": [],
   "source": [
    "DEBUG =True #False#"
   ]
  },
  {
   "cell_type": "code",
   "execution_count": 2,
   "metadata": {},
   "outputs": [
    {
     "name": "stdout",
     "output_type": "stream",
     "text": [
      "\n",
      "setGPU: Setting GPU to: [7]\n",
      "Initial visible GPUs: [PhysicalDevice(name='/physical_device:GPU:0', device_type='GPU')]\n",
      "visible GPUs: [PhysicalDevice(name='/physical_device:GPU:0', device_type='GPU')]\n",
      "Successfully set memory_growth=True and limited GPUs visible to tensorflow.\n",
      "\n",
      "Now using GPU(s):\n",
      "['/physical_device:GPU:0']\n"
     ]
    },
    {
     "name": "stderr",
     "output_type": "stream",
     "text": [
      "/media/data/conda/jacob/envs/pyleaves2.3/lib/python3.7/site-packages/wandb/vendor/graphql-core-1.1/graphql/type/directives.py:55: DeprecationWarning: Using or importing the ABCs from 'collections' instead of from 'collections.abc' is deprecated since Python 3.3,and in 3.9 it will stop working\n",
      "  assert isinstance(locations, collections.Iterable), 'Must provide locations for directive.'\n"
     ]
    }
   ],
   "source": [
    "from IPython.display import display\n",
    "import warnings\n",
    "warnings.filterwarnings('ignore')\n",
    "from pyleaves.utils import set_tf_config\n",
    "set_tf_config(num_gpus=1)\n",
    "\n",
    "import wandb\n",
    "from wandb.keras import WandbCallback\n",
    "# wandb.login()\n",
    "\n",
    "import tensorflow as tf\n",
    "from tensorflow import keras\n",
    "from tensorflow.keras import backend as K\n",
    "from tensorflow.keras import Input, Model\n",
    "from tensorflow.keras.layers import Conv2D, BatchNormalization, MaxPool2D, ReLU, ELU, LeakyReLU, Flatten, Dense, Add, AveragePooling2D, GlobalAveragePooling2D\n",
    "from tensorflow.keras.layers.experimental.preprocessing import StringLookup, CategoryEncoding\n",
    "import tensorflow_datasets as tfds\n",
    "import numpy as np\n",
    "##\n",
    "# Always randomly set the seed + log value for future replication for experiments by default,\n",
    "# but if DEBUG is set to True, then seed all random generators with a hard coded value\n",
    "##\n",
    "import random\n",
    "nb_seed = random.randint(0,1e5)\n",
    "if DEBUG:\n",
    "    nb_seed = 374  \n",
    "np.random.seed(nb_seed)\n",
    "tf.random.set_seed(nb_seed)\n",
    "\n",
    "import os\n",
    "import pprint\n",
    "pp = pprint.PrettyPrinter(indent=4)\n",
    "\n",
    "import matplotlib.pyplot as plt\n",
    "from typing import List, Tuple, Union, Dict, NamedTuple\n",
    "from omegaconf import OmegaConf\n",
    "\n",
    "# from tfrecord_utils.img_utils import resize_repeat\n",
    "# from boltons.funcutils import partial\n",
    "# import logging\n",
    "# logger = logging.getLogger('')\n",
    "\n",
    "LOG_DIR = '/media/data/jacob/GitHub/experiment_results/evolution_logs'\n",
    "os.makedirs(LOG_DIR, exist_ok=True)\n",
    "from paleoai_data.utils.logging_utils import get_logger\n",
    "logger = get_logger(logdir=LOG_DIR, filename='generation_evolution_logs.log', append=True)\n",
    "\n",
    "VERBOSE = True\n",
    "import pandas as pd\n",
    "import json\n",
    "import jsonpickle\n",
    "from box import Box\n",
    "from bunch import Bunch\n",
    "import copy\n",
    "import gc\n",
    "\n",
    "from genetic_algorithm.datasets.plant_village import ClassLabelEncoder, load_and_preprocess_data\n",
    "from genetic_algorithm import stateful\n",
    "\n",
    "from genetic_algorithm.chromosome import ChromosomeSampler\n",
    "from genetic_algorithm.organism.organism import Organism\n",
    "from genetic_algorithm.generation.generation import Generation\n",
    "from genetic_algorithm.plotting import log_high_loss_examples"
   ]
  },
  {
   "cell_type": "code",
   "execution_count": 3,
   "metadata": {},
   "outputs": [
    {
     "name": "stdout",
     "output_type": "stream",
     "text": [
      "experiment:\n",
      "  seed: 6227\n",
      "  batch_size: 16\n",
      "  input_shape:\n",
      "  - 128\n",
      "  - 128\n",
      "  - 3\n",
      "  output_size: 38\n",
      "  epochs_per_organism: 1\n",
      "  results_dir: /media/data_cifs_lrs/projects/prj_fossils/users/jacob/experiments/Nov2020-Jan2021/debugging_trials\n",
      "data:\n",
      "  load:\n",
      "    dataset_name: plant_village\n",
      "    split:\n",
      "    - train[0%:60%]\n",
      "    - train[60%:70%]\n",
      "    - train[70%:100%]\n",
      "    data_dir: /media/data/jacob/tensorflow_datasets\n",
      "  preprocess:\n",
      "    batch_size: 16\n",
      "    target_size:\n",
      "    - 128\n",
      "    - 128\n",
      "generation:\n",
      "  population_size: 3\n",
      "  num_generations_per_phase: 2\n",
      "  fitSurvivalRate: 0.5\n",
      "  unfitSurvivalProb: 0.2\n",
      "  mutationRate: 0.1\n",
      "  num_phases: 3\n",
      "organism:\n",
      "  input_shape:\n",
      "  - 128\n",
      "  - 128\n",
      "  - 3\n",
      "  output_size: 38\n",
      "  epochs_per_organism: 1\n",
      "\n"
     ]
    },
    {
     "name": "stderr",
     "output_type": "stream",
     "text": [
      "/media/data/conda/jacob/envs/pyleaves2.3/lib/python3.7/site-packages/ipykernel/ipkernel.py:287: DeprecationWarning: `should_run_async` will not call `transform_cell` automatically in the future. Please pass the result to `transformed_cell` argument and any exception that happen during thetransform in `preprocessing_exc_tuple` in IPython 7.17 and above.\n",
      "  and should_run_async(code)\n"
     ]
    }
   ],
   "source": [
    "exp_config = OmegaConf.create({'seed':756, #237,\n",
    "                               'batch_size':16,\n",
    "                               'input_shape':(224,224,3),\n",
    "                               'output_size':38,\n",
    "                               'epochs_per_organism':3,\n",
    "                               'results_dir':'/media/data_cifs_lrs/projects/prj_fossils/users/jacob/experiments/Nov2020-Jan2021'\n",
    "                              })\n",
    "\n",
    "data_config = OmegaConf.create({'load':{},'preprocess':{}})\n",
    "\n",
    "data_config['load'] = {'dataset_name':'plant_village',\n",
    "                       'split':['train[0%:60%]','train[60%:70%]','train[70%:100%]'],\n",
    "                       'data_dir':'/media/data/jacob/tensorflow_datasets'}\n",
    "\n",
    "data_config['preprocess'] = {'batch_size':exp_config.batch_size,\n",
    "                             'target_size':exp_config.input_shape[:2]}\n",
    "\n",
    "generation_config = OmegaConf.create({\n",
    "                                      'population_size':5,\n",
    "                                      'num_generations_per_phase':3,\n",
    "                                      'fitSurvivalRate': 0.5,\n",
    "                                      'unfitSurvivalProb':0.2,\n",
    "                                      'mutationRate':0.1,\n",
    "                                      'num_phases':5\n",
    "                                    })\n",
    "organism_config = OmegaConf.create({'input_shape':exp_config.input_shape,\n",
    "                                    'output_size':exp_config.output_size,\n",
    "                                    'epochs_per_organism':exp_config.epochs_per_organism})\n",
    "\n",
    "if DEBUG:\n",
    "    exp_config = OmegaConf.create({'seed':6227,\n",
    "                                   'batch_size':16,\n",
    "                                   'input_shape':(128,128,3),\n",
    "                                   'output_size':38,\n",
    "                                   'epochs_per_organism':1,\n",
    "                                   'results_dir':'/media/data_cifs_lrs/projects/prj_fossils/users/jacob/experiments/Nov2020-Jan2021/debugging_trials'\n",
    "                                  })\n",
    "\n",
    "    data_config = OmegaConf.create({'load':{},'preprocess':{}})\n",
    "    data_config['load'] = {'dataset_name':'plant_village',\n",
    "                           'split':['train[0%:60%]','train[60%:70%]','train[70%:100%]'],\n",
    "                           'data_dir':'/media/data/jacob/tensorflow_datasets'}\n",
    "\n",
    "    data_config['preprocess'] = {'batch_size':exp_config.batch_size,\n",
    "                                 'target_size':exp_config.input_shape[:2]}\n",
    "\n",
    "    generation_config = OmegaConf.create({\n",
    "                                          'population_size':3,\n",
    "                                          'num_generations_per_phase':2,\n",
    "                                          'fitSurvivalRate': 0.5,\n",
    "                                          'unfitSurvivalProb':0.2,\n",
    "                                          'mutationRate':0.1,\n",
    "                                          'num_phases':3\n",
    "                                        })\n",
    "    organism_config = OmegaConf.create({'input_shape':exp_config.input_shape,\n",
    "                                        'output_size':exp_config.output_size,\n",
    "                                        'epochs_per_organism':exp_config.epochs_per_organism})\n",
    "\n",
    "config = OmegaConf.create({\n",
    "                            'experiment':exp_config,\n",
    "                            'data':data_config,\n",
    "                            'generation':generation_config,\n",
    "                            'organism':organism_config\n",
    "})\n",
    "print(config.pretty())"
   ]
  },
  {
   "cell_type": "markdown",
   "metadata": {},
   "source": [
    "### Load and preprocess data, and acquire the class_encoder\n",
    "#### Finally, alter config values based on whether running in DEBUG mode or not"
   ]
  },
  {
   "cell_type": "code",
   "execution_count": 4,
   "metadata": {},
   "outputs": [
    {
     "name": "stderr",
     "output_type": "stream",
     "text": [
      "INFO Load dataset info from /media/data/jacob/tensorflow_datasets/plant_village/1.0.2\n",
      "INFO Reusing dataset plant_village (/media/data/jacob/tensorflow_datasets/plant_village/1.0.2)\n",
      "INFO Constructing tf.data.Dataset for split ['train[0%:60%]', 'train[60%:70%]', 'train[70%:100%]'], from /media/data/jacob/tensorflow_datasets/plant_village/1.0.2\n"
     ]
    },
    {
     "name": "stdout",
     "output_type": "stream",
     "text": [
      "Getting the TFDS dataset: plant_village\n",
      "splits: ['train[0%:60%]', 'train[60%:70%]', 'train[70%:100%]']\n",
      "<genetic_algorithm.datasets.plant_village.ClassLabelEncoder object at 0x7fc3e461e090>\n"
     ]
    }
   ],
   "source": [
    "data, class_encoder = load_and_preprocess_data(config['data'])\n",
    "if DEBUG:\n",
    "    config.organism.steps_per_epoch = 10\n",
    "    config.organism.validation_steps = 10\n",
    "else:\n",
    "    config.organism.steps_per_epoch = len(data['train'])\n",
    "    config.organism.validation_steps = len(data['val'])"
   ]
  },
  {
   "cell_type": "markdown",
   "metadata": {
    "id": "EZRopbXcoeJ6"
   },
   "source": [
    "# Organism\n",
    "An organism contains the following:\n",
    "\n",
    "1. phase - This denotes which phase does the organism belong to\n",
    "2. chromosome - A dictionary of genes (hyperparameters)\n",
    "3. model - The `tf.keras` model corresponding to the chromosome\n",
    "4. best_organism - The best organism in the previous **phase**\n",
    "\n",
    "# Generation\n",
    "This is a class that hold generations of models.\n",
    "\n",
    "1. fitSurvivalRate - The amount of fit individuals we want in the next generation.\n",
    "2. unfitSurvivalProb - The probability of sending unfit individuals\n",
    "3. mutationRate - The mutation rate to change genes in an individual.\n",
    "4. phase - The phase that the generation belongs to.\n",
    "5. population_size - The amount of individuals that the generation consists of.\n",
    "6. best_organism - The best organism (individual) is the last phase"
   ]
  },
  {
   "cell_type": "markdown",
   "metadata": {},
   "source": [
    "# MAIN TRAINING LOOP"
   ]
  },
  {
   "cell_type": "code",
   "execution_count": 5,
   "metadata": {},
   "outputs": [],
   "source": [
    "os.environ['WANDB_NOTEBOOK_NAME'] = 'generation.ipynb'\n",
    "\n",
    "%reload_ext memory_profiler"
   ]
  },
  {
   "cell_type": "code",
   "execution_count": 6,
   "metadata": {},
   "outputs": [
    {
     "name": "stdout",
     "output_type": "stream",
     "text": [
      "/media/data/jacob/GitHub/genetic_algorithm\n"
     ]
    }
   ],
   "source": [
    "%cd /media/data/jacob/GitHub/genetic_algorithm\n",
    "%pwd\n",
    "\n",
    "from main import main"
   ]
  },
  {
   "cell_type": "code",
   "execution_count": 7,
   "metadata": {},
   "outputs": [
    {
     "name": "stdout",
     "output_type": "stream",
     "text": [
      "{'experiment': {'seed': 6227, 'batch_size': 16, 'input_shape': [128, 128, 3], 'output_size': 38, 'epochs_per_organism': 1, 'results_dir': '/media/data_cifs_lrs/projects/prj_fossils/users/jacob/experiments/Nov2020-Jan2021/debugging_trials'}, 'data': {'load': {'dataset_name': 'plant_village', 'split': ['train[0%:60%]', 'train[60%:70%]', 'train[70%:100%]'], 'data_dir': '/media/data/jacob/tensorflow_datasets'}, 'preprocess': {'batch_size': 16, 'target_size': [128, 128]}}, 'generation': {'population_size': 3, 'num_generations_per_phase': 2, 'fitSurvivalRate': 0.5, 'unfitSurvivalProb': 0.2, 'mutationRate': 0.1, 'num_phases': 3}, 'organism': {'input_shape': [128, 128, 3], 'output_size': 38, 'epochs_per_organism': 1, 'steps_per_epoch': 10, 'validation_steps': 10}}\n",
      "PHASE 0\n",
      "<<<<<<<<<<       >>>>>>>>>>\n",
      "Creating, training then testing organism 0 out of a maximum 3 from generation 0 and phase 0\n",
      "{'input_shape': [128, 128, 3], 'output_size': 38, 'epochs_per_organism': 1, 'steps_per_epoch': 10, 'validation_steps': 10}\n"
     ]
    },
    {
     "name": "stderr",
     "output_type": "stream",
     "text": [
      "\u001b[34m\u001b[1mwandb\u001b[0m: Currently logged in as: \u001b[33mjrose\u001b[0m (use `wandb login --relogin` to force relogin)\n"
     ]
    },
    {
     "name": "stdout",
     "output_type": "stream",
     "text": [
      "\n",
      "\n",
      " FITNESS FUNCTION\n",
      "vars(): {'self': <genetic_algorithm.organism.organism.Organism object at 0x7fc330074a10>, 'train_data': <PrefetchDataset shapes: ((None, 128, 128, 3), (None, 38)), types: (tf.float32, tf.float32)>, 'val_data': <PrefetchDataset shapes: ((None, 128, 128, 3), (None, 38)), types: (tf.float32, tf.float32)>, 'generation_number': 0}\n"
     ]
    },
    {
     "data": {
      "text/html": [
       "\n",
       "                Tracking run with wandb version 0.10.11<br/>\n",
       "                Syncing run <strong style=\"color:#cdcd00\">valiant-blaze-14</strong> to <a href=\"https://wandb.ai\" target=\"_blank\">Weights & Biases</a> <a href=\"https://docs.wandb.com/integrations/jupyter.html\" target=\"_blank\">(Documentation)</a>.<br/>\n",
       "                Project page: <a href=\"https://wandb.ai/jrose/vlga-plant_village-DEBUG\" target=\"_blank\">https://wandb.ai/jrose/vlga-plant_village-DEBUG</a><br/>\n",
       "                Run page: <a href=\"https://wandb.ai/jrose/vlga-plant_village-DEBUG/runs/3bohdw09\" target=\"_blank\">https://wandb.ai/jrose/vlga-plant_village-DEBUG/runs/3bohdw09</a><br/>\n",
       "                Run data is saved locally in <code>/media/data/jacob/GitHub/genetic_algorithm/wandb/run-20201201_204427-3bohdw09</code><br/><br/>\n",
       "            "
      ],
      "text/plain": [
       "<IPython.core.display.HTML object>"
      ]
     },
     "metadata": {},
     "output_type": "display_data"
    },
    {
     "name": "stdout",
     "output_type": "stream",
     "text": [
      "10/10 [==============================] - 1s 78ms/step - loss: 3.3788 - accuracy: 0.1875 - tp: 11.0000 - fp: 8.0000 - tn: 5912.0000 - fn: 149.0000 - precision: 0.5789 - recall: 0.0688 - auc: 0.6620 \n",
      "10/10 [==============================] - 0s 31ms/step - loss: 3.6362 - accuracy: 0.0688 - tp: 0.0000e+00 - fp: 0.0000e+00 - tn: 5920.0000 - fn: 160.0000 - precision: 0.0000e+00 - recall: 0.0000e+00 - auc: 0.5581\n",
      "phase_0-gen_0-organism_0\n",
      "fitness: 0.06875000149011612\n",
      "results:\n",
      " 9\n",
      "{'loss': 3.636230945587158, 'accuracy': 0.06875000149011612, 'tp': 0.0, 'fp': 0.0, 'tn': 5920.0, 'fn': 160.0, 'precision': 0.0, 'recall': 0.0, 'auc': 0.5580763816833496}\n"
     ]
    },
    {
     "data": {
      "text/html": [
       "<br/>Waiting for W&B process to finish, PID 23493<br/>Program ended successfully."
      ],
      "text/plain": [
       "<IPython.core.display.HTML object>"
      ]
     },
     "metadata": {},
     "output_type": "display_data"
    },
    {
     "data": {
      "application/vnd.jupyter.widget-view+json": {
       "model_id": "",
       "version_major": 2,
       "version_minor": 0
      },
      "text/plain": [
       "VBox(children=(Label(value=' 0.21MB of 0.21MB uploaded (0.00MB deduped)\\r'), FloatProgress(value=1.0, max=1.0)…"
      ]
     },
     "metadata": {},
     "output_type": "display_data"
    },
    {
     "data": {
      "text/html": [
       "Find user logs for this run at: <code>/media/data/jacob/GitHub/genetic_algorithm/wandb/run-20201201_204427-3bohdw09/logs/debug.log</code>"
      ],
      "text/plain": [
       "<IPython.core.display.HTML object>"
      ]
     },
     "metadata": {},
     "output_type": "display_data"
    },
    {
     "data": {
      "text/html": [
       "Find internal logs for this run at: <code>/media/data/jacob/GitHub/genetic_algorithm/wandb/run-20201201_204427-3bohdw09/logs/debug-internal.log</code>"
      ],
      "text/plain": [
       "<IPython.core.display.HTML object>"
      ]
     },
     "metadata": {},
     "output_type": "display_data"
    },
    {
     "data": {
      "text/html": [
       "<h3>Run summary:</h3><br/><style>\n",
       "    table.wandb td:nth-child(1) { padding: 0 10px; text-align: right }\n",
       "    </style><table class=\"wandb\">\n",
       "<tr><td>epoch</td><td>0</td></tr><tr><td>loss</td><td>3.37875</td></tr><tr><td>accuracy</td><td>0.1875</td></tr><tr><td>tp</td><td>11.0</td></tr><tr><td>fp</td><td>8.0</td></tr><tr><td>tn</td><td>5912.0</td></tr><tr><td>fn</td><td>149.0</td></tr><tr><td>precision</td><td>0.57895</td></tr><tr><td>recall</td><td>0.06875</td></tr><tr><td>auc</td><td>0.66198</td></tr><tr><td>_step</td><td>0</td></tr><tr><td>_runtime</td><td>9</td></tr><tr><td>_timestamp</td><td>1606873476</td></tr></table>"
      ],
      "text/plain": [
       "<IPython.core.display.HTML object>"
      ]
     },
     "metadata": {},
     "output_type": "display_data"
    },
    {
     "data": {
      "text/html": [
       "<h3>Run history:</h3><br/><style>\n",
       "    table.wandb td:nth-child(1) { padding: 0 10px; text-align: right }\n",
       "    </style><table class=\"wandb\">\n",
       "<tr><td>epoch</td><td>▁</td></tr><tr><td>loss</td><td>▁</td></tr><tr><td>accuracy</td><td>▁</td></tr><tr><td>tp</td><td>▁</td></tr><tr><td>fp</td><td>▁</td></tr><tr><td>tn</td><td>▁</td></tr><tr><td>fn</td><td>▁</td></tr><tr><td>precision</td><td>▁</td></tr><tr><td>recall</td><td>▁</td></tr><tr><td>auc</td><td>▁</td></tr><tr><td>_step</td><td>▁</td></tr><tr><td>_runtime</td><td>▁</td></tr><tr><td>_timestamp</td><td>▁</td></tr></table><br/>"
      ],
      "text/plain": [
       "<IPython.core.display.HTML object>"
      ]
     },
     "metadata": {},
     "output_type": "display_data"
    },
    {
     "data": {
      "text/html": [
       "Synced 6 W&B file(s), 1 media file(s), 0 artifact file(s) and 1 other file(s)"
      ],
      "text/plain": [
       "<IPython.core.display.HTML object>"
      ]
     },
     "metadata": {},
     "output_type": "display_data"
    },
    {
     "data": {
      "text/html": [
       "\n",
       "                    <br/>Synced <strong style=\"color:#cdcd00\">valiant-blaze-14</strong>: <a href=\"https://wandb.ai/jrose/vlga-plant_village-DEBUG/runs/3bohdw09\" target=\"_blank\">https://wandb.ai/jrose/vlga-plant_village-DEBUG/runs/3bohdw09</a><br/>\n",
       "                "
      ],
      "text/plain": [
       "<IPython.core.display.HTML object>"
      ]
     },
     "metadata": {},
     "output_type": "display_data"
    },
    {
     "name": "stdout",
     "output_type": "stream",
     "text": [
      "<<<<<<<<<<       >>>>>>>>>>\n",
      "Creating, training then testing organism 1 out of a maximum 3 from generation 0 and phase 0\n",
      "{'input_shape': [128, 128, 3], 'output_size': 38, 'epochs_per_organism': 1, 'steps_per_epoch': 10, 'validation_steps': 10}\n",
      "\n",
      "\n",
      " FITNESS FUNCTION\n",
      "vars(): {'self': <genetic_algorithm.organism.organism.Organism object at 0x7fc2cc72f890>, 'train_data': <PrefetchDataset shapes: ((None, 128, 128, 3), (None, 38)), types: (tf.float32, tf.float32)>, 'val_data': <PrefetchDataset shapes: ((None, 128, 128, 3), (None, 38)), types: (tf.float32, tf.float32)>, 'generation_number': 0}\n"
     ]
    },
    {
     "data": {
      "text/html": [
       "\n",
       "                Tracking run with wandb version 0.10.11<br/>\n",
       "                Syncing run <strong style=\"color:#cdcd00\">different-dream-15</strong> to <a href=\"https://wandb.ai\" target=\"_blank\">Weights & Biases</a> <a href=\"https://docs.wandb.com/integrations/jupyter.html\" target=\"_blank\">(Documentation)</a>.<br/>\n",
       "                Project page: <a href=\"https://wandb.ai/jrose/vlga-plant_village-DEBUG\" target=\"_blank\">https://wandb.ai/jrose/vlga-plant_village-DEBUG</a><br/>\n",
       "                Run page: <a href=\"https://wandb.ai/jrose/vlga-plant_village-DEBUG/runs/35im7bma\" target=\"_blank\">https://wandb.ai/jrose/vlga-plant_village-DEBUG/runs/35im7bma</a><br/>\n",
       "                Run data is saved locally in <code>/media/data/jacob/GitHub/genetic_algorithm/wandb/run-20201201_204443-35im7bma</code><br/><br/>\n",
       "            "
      ],
      "text/plain": [
       "<IPython.core.display.HTML object>"
      ]
     },
     "metadata": {},
     "output_type": "display_data"
    },
    {
     "name": "stdout",
     "output_type": "stream",
     "text": [
      "10/10 [==============================] - 1s 103ms/step - loss: 3.6065 - accuracy: 0.0500 - tp: 0.0000e+00 - fp: 0.0000e+00 - tn: 5920.0000 - fn: 160.0000 - precision: 0.0000e+00 - recall: 0.0000e+00 - auc: 0.5814\n",
      "10/10 [==============================] - 0s 24ms/step - loss: 3.5527 - accuracy: 0.0938 - tp: 0.0000e+00 - fp: 0.0000e+00 - tn: 5920.0000 - fn: 160.0000 - precision: 0.0000e+00 - recall: 0.0000e+00 - auc: 0.6101\n",
      "phase_0-gen_0-organism_1\n",
      "fitness: 0.09375\n",
      "results:\n",
      " 9\n",
      "{'loss': 3.552712917327881, 'accuracy': 0.09375, 'tp': 0.0, 'fp': 0.0, 'tn': 5920.0, 'fn': 160.0, 'precision': 0.0, 'recall': 0.0, 'auc': 0.6101404428482056}\n"
     ]
    },
    {
     "data": {
      "text/html": [
       "<br/>Waiting for W&B process to finish, PID 23774<br/>Program ended successfully."
      ],
      "text/plain": [
       "<IPython.core.display.HTML object>"
      ]
     },
     "metadata": {},
     "output_type": "display_data"
    },
    {
     "data": {
      "application/vnd.jupyter.widget-view+json": {
       "model_id": "",
       "version_major": 2,
       "version_minor": 0
      },
      "text/plain": [
       "VBox(children=(Label(value=' 0.21MB of 0.21MB uploaded (0.00MB deduped)\\r'), FloatProgress(value=1.0, max=1.0)…"
      ]
     },
     "metadata": {},
     "output_type": "display_data"
    },
    {
     "data": {
      "text/html": [
       "Find user logs for this run at: <code>/media/data/jacob/GitHub/genetic_algorithm/wandb/run-20201201_204443-35im7bma/logs/debug.log</code>"
      ],
      "text/plain": [
       "<IPython.core.display.HTML object>"
      ]
     },
     "metadata": {},
     "output_type": "display_data"
    },
    {
     "data": {
      "text/html": [
       "Find internal logs for this run at: <code>/media/data/jacob/GitHub/genetic_algorithm/wandb/run-20201201_204443-35im7bma/logs/debug-internal.log</code>"
      ],
      "text/plain": [
       "<IPython.core.display.HTML object>"
      ]
     },
     "metadata": {},
     "output_type": "display_data"
    },
    {
     "data": {
      "text/html": [
       "<h3>Run summary:</h3><br/><style>\n",
       "    table.wandb td:nth-child(1) { padding: 0 10px; text-align: right }\n",
       "    </style><table class=\"wandb\">\n",
       "<tr><td>epoch</td><td>0</td></tr><tr><td>loss</td><td>3.60645</td></tr><tr><td>accuracy</td><td>0.05</td></tr><tr><td>tp</td><td>0.0</td></tr><tr><td>fp</td><td>0.0</td></tr><tr><td>tn</td><td>5920.0</td></tr><tr><td>fn</td><td>160.0</td></tr><tr><td>precision</td><td>0.0</td></tr><tr><td>recall</td><td>0.0</td></tr><tr><td>auc</td><td>0.58137</td></tr><tr><td>_step</td><td>0</td></tr><tr><td>_runtime</td><td>7</td></tr><tr><td>_timestamp</td><td>1606873490</td></tr></table>"
      ],
      "text/plain": [
       "<IPython.core.display.HTML object>"
      ]
     },
     "metadata": {},
     "output_type": "display_data"
    },
    {
     "data": {
      "text/html": [
       "<h3>Run history:</h3><br/><style>\n",
       "    table.wandb td:nth-child(1) { padding: 0 10px; text-align: right }\n",
       "    </style><table class=\"wandb\">\n",
       "<tr><td>epoch</td><td>▁</td></tr><tr><td>loss</td><td>▁</td></tr><tr><td>accuracy</td><td>▁</td></tr><tr><td>tp</td><td>▁</td></tr><tr><td>fp</td><td>▁</td></tr><tr><td>tn</td><td>▁</td></tr><tr><td>fn</td><td>▁</td></tr><tr><td>precision</td><td>▁</td></tr><tr><td>recall</td><td>▁</td></tr><tr><td>auc</td><td>▁</td></tr><tr><td>_step</td><td>▁</td></tr><tr><td>_runtime</td><td>▁</td></tr><tr><td>_timestamp</td><td>▁</td></tr></table><br/>"
      ],
      "text/plain": [
       "<IPython.core.display.HTML object>"
      ]
     },
     "metadata": {},
     "output_type": "display_data"
    },
    {
     "data": {
      "text/html": [
       "Synced 6 W&B file(s), 1 media file(s), 0 artifact file(s) and 1 other file(s)"
      ],
      "text/plain": [
       "<IPython.core.display.HTML object>"
      ]
     },
     "metadata": {},
     "output_type": "display_data"
    },
    {
     "data": {
      "text/html": [
       "\n",
       "                    <br/>Synced <strong style=\"color:#cdcd00\">different-dream-15</strong>: <a href=\"https://wandb.ai/jrose/vlga-plant_village-DEBUG/runs/35im7bma\" target=\"_blank\">https://wandb.ai/jrose/vlga-plant_village-DEBUG/runs/35im7bma</a><br/>\n",
       "                "
      ],
      "text/plain": [
       "<IPython.core.display.HTML object>"
      ]
     },
     "metadata": {},
     "output_type": "display_data"
    },
    {
     "name": "stdout",
     "output_type": "stream",
     "text": [
      "<<<<<<<<<<       >>>>>>>>>>\n",
      "Creating, training then testing organism 2 out of a maximum 3 from generation 0 and phase 0\n",
      "{'input_shape': [128, 128, 3], 'output_size': 38, 'epochs_per_organism': 1, 'steps_per_epoch': 10, 'validation_steps': 10}\n",
      "\n",
      "\n",
      " FITNESS FUNCTION\n",
      "vars(): {'self': <genetic_algorithm.organism.organism.Organism object at 0x7fc2cc6d91d0>, 'train_data': <PrefetchDataset shapes: ((None, 128, 128, 3), (None, 38)), types: (tf.float32, tf.float32)>, 'val_data': <PrefetchDataset shapes: ((None, 128, 128, 3), (None, 38)), types: (tf.float32, tf.float32)>, 'generation_number': 0}\n"
     ]
    },
    {
     "data": {
      "text/html": [
       "\n",
       "                Tracking run with wandb version 0.10.11<br/>\n",
       "                Syncing run <strong style=\"color:#cdcd00\">legendary-lion-16</strong> to <a href=\"https://wandb.ai\" target=\"_blank\">Weights & Biases</a> <a href=\"https://docs.wandb.com/integrations/jupyter.html\" target=\"_blank\">(Documentation)</a>.<br/>\n",
       "                Project page: <a href=\"https://wandb.ai/jrose/vlga-plant_village-DEBUG\" target=\"_blank\">https://wandb.ai/jrose/vlga-plant_village-DEBUG</a><br/>\n",
       "                Run page: <a href=\"https://wandb.ai/jrose/vlga-plant_village-DEBUG/runs/r7wqc6h1\" target=\"_blank\">https://wandb.ai/jrose/vlga-plant_village-DEBUG/runs/r7wqc6h1</a><br/>\n",
       "                Run data is saved locally in <code>/media/data/jacob/GitHub/genetic_algorithm/wandb/run-20201201_204457-r7wqc6h1</code><br/><br/>\n",
       "            "
      ],
      "text/plain": [
       "<IPython.core.display.HTML object>"
      ]
     },
     "metadata": {},
     "output_type": "display_data"
    },
    {
     "name": "stdout",
     "output_type": "stream",
     "text": [
      "10/10 [==============================] - 0s 18ms/step - loss: 3.4938 - accuracy: 0.1250 - tp: 0.0000e+00 - fp: 0.0000e+00 - tn: 5920.0000 - fn: 160.0000 - precision: 0.0000e+00 - recall: 0.0000e+00 - auc: 0.6410\n",
      "10/10 [==============================] - 0s 18ms/step - loss: 3.7335 - accuracy: 0.0500 - tp: 0.0000e+00 - fp: 0.0000e+00 - tn: 5920.0000 - fn: 160.0000 - precision: 0.0000e+00 - recall: 0.0000e+00 - auc: 0.4959\n",
      "phase_0-gen_0-organism_2\n",
      "fitness: 0.05000000074505806\n",
      "results:\n",
      " 9\n",
      "{'loss': 3.7334609031677246, 'accuracy': 0.05000000074505806, 'tp': 0.0, 'fp': 0.0, 'tn': 5920.0, 'fn': 160.0, 'precision': 0.0, 'recall': 0.0, 'auc': 0.495917946100235}\n"
     ]
    },
    {
     "data": {
      "text/html": [
       "<br/>Waiting for W&B process to finish, PID 24063<br/>Program ended successfully."
      ],
      "text/plain": [
       "<IPython.core.display.HTML object>"
      ]
     },
     "metadata": {},
     "output_type": "display_data"
    },
    {
     "data": {
      "application/vnd.jupyter.widget-view+json": {
       "model_id": "",
       "version_major": 2,
       "version_minor": 0
      },
      "text/plain": [
       "VBox(children=(Label(value=' 0.21MB of 0.21MB uploaded (0.00MB deduped)\\r'), FloatProgress(value=1.0, max=1.0)…"
      ]
     },
     "metadata": {},
     "output_type": "display_data"
    },
    {
     "data": {
      "text/html": [
       "Find user logs for this run at: <code>/media/data/jacob/GitHub/genetic_algorithm/wandb/run-20201201_204457-r7wqc6h1/logs/debug.log</code>"
      ],
      "text/plain": [
       "<IPython.core.display.HTML object>"
      ]
     },
     "metadata": {},
     "output_type": "display_data"
    },
    {
     "data": {
      "text/html": [
       "Find internal logs for this run at: <code>/media/data/jacob/GitHub/genetic_algorithm/wandb/run-20201201_204457-r7wqc6h1/logs/debug-internal.log</code>"
      ],
      "text/plain": [
       "<IPython.core.display.HTML object>"
      ]
     },
     "metadata": {},
     "output_type": "display_data"
    },
    {
     "data": {
      "text/html": [
       "<h3>Run summary:</h3><br/><style>\n",
       "    table.wandb td:nth-child(1) { padding: 0 10px; text-align: right }\n",
       "    </style><table class=\"wandb\">\n",
       "<tr><td>epoch</td><td>0</td></tr><tr><td>loss</td><td>3.49377</td></tr><tr><td>accuracy</td><td>0.125</td></tr><tr><td>tp</td><td>0.0</td></tr><tr><td>fp</td><td>0.0</td></tr><tr><td>tn</td><td>5920.0</td></tr><tr><td>fn</td><td>160.0</td></tr><tr><td>precision</td><td>0.0</td></tr><tr><td>recall</td><td>0.0</td></tr><tr><td>auc</td><td>0.64099</td></tr><tr><td>_step</td><td>0</td></tr><tr><td>_runtime</td><td>5</td></tr><tr><td>_timestamp</td><td>1606873503</td></tr></table>"
      ],
      "text/plain": [
       "<IPython.core.display.HTML object>"
      ]
     },
     "metadata": {},
     "output_type": "display_data"
    },
    {
     "data": {
      "text/html": [
       "<h3>Run history:</h3><br/><style>\n",
       "    table.wandb td:nth-child(1) { padding: 0 10px; text-align: right }\n",
       "    </style><table class=\"wandb\">\n",
       "<tr><td>epoch</td><td>▁</td></tr><tr><td>loss</td><td>▁</td></tr><tr><td>accuracy</td><td>▁</td></tr><tr><td>tp</td><td>▁</td></tr><tr><td>fp</td><td>▁</td></tr><tr><td>tn</td><td>▁</td></tr><tr><td>fn</td><td>▁</td></tr><tr><td>precision</td><td>▁</td></tr><tr><td>recall</td><td>▁</td></tr><tr><td>auc</td><td>▁</td></tr><tr><td>_step</td><td>▁</td></tr><tr><td>_runtime</td><td>▁</td></tr><tr><td>_timestamp</td><td>▁</td></tr></table><br/>"
      ],
      "text/plain": [
       "<IPython.core.display.HTML object>"
      ]
     },
     "metadata": {},
     "output_type": "display_data"
    },
    {
     "data": {
      "text/html": [
       "Synced 6 W&B file(s), 1 media file(s), 0 artifact file(s) and 1 other file(s)"
      ],
      "text/plain": [
       "<IPython.core.display.HTML object>"
      ]
     },
     "metadata": {},
     "output_type": "display_data"
    },
    {
     "data": {
      "text/html": [
       "\n",
       "                    <br/>Synced <strong style=\"color:#cdcd00\">legendary-lion-16</strong>: <a href=\"https://wandb.ai/jrose/vlga-plant_village-DEBUG/runs/r7wqc6h1\" target=\"_blank\">https://wandb.ai/jrose/vlga-plant_village-DEBUG/runs/r7wqc6h1</a><br/>\n",
       "                "
      ],
      "text/plain": [
       "<IPython.core.display.HTML object>"
      ]
     },
     "metadata": {},
     "output_type": "display_data"
    },
    {
     "name": "stdout",
     "output_type": "stream",
     "text": [
      "NEW BEST MODEL:\n",
      "                Fitness = 0.094\n",
      "                Previous Fitness = 0.069\n",
      "                Name = phase_0-gen_0-organism_1\n",
      "                chromosome = {'a_filter_size': (5, 5), 'a_include_BN': False, 'a_output_channels': 256, 'activation_type': <class 'tensorflow.python.keras.layers.advanced_activations.ReLU'>, 'b_filter_size': (9, 9), 'b_include_BN': False, 'b_output_channels': 32, 'include_pool': True, 'pool_type': <class 'tensorflow.python.keras.layers.pooling.AveragePooling2D'>, 'include_skip': False}\n",
      "EVALUATE\n"
     ]
    },
    {
     "data": {
      "text/html": [
       "\n",
       "                Tracking run with wandb version 0.10.11<br/>\n",
       "                Syncing run <strong style=\"color:#cdcd00\">different-dream-15</strong> to <a href=\"https://wandb.ai\" target=\"_blank\">Weights & Biases</a> <a href=\"https://docs.wandb.com/integrations/jupyter.html\" target=\"_blank\">(Documentation)</a>.<br/>\n",
       "                Project page: <a href=\"https://wandb.ai/jrose/vlga-plant_village-DEBUG\" target=\"_blank\">https://wandb.ai/jrose/vlga-plant_village-DEBUG</a><br/>\n",
       "                Run page: <a href=\"https://wandb.ai/jrose/vlga-plant_village-DEBUG/runs/35im7bma\" target=\"_blank\">https://wandb.ai/jrose/vlga-plant_village-DEBUG/runs/35im7bma</a><br/>\n",
       "                Run data is saved locally in <code>/media/data/jacob/GitHub/genetic_algorithm/wandb/run-20201201_204510-35im7bma</code><br/><br/>\n",
       "            "
      ],
      "text/plain": [
       "<IPython.core.display.HTML object>"
      ]
     },
     "metadata": {},
     "output_type": "display_data"
    },
    {
     "name": "stdout",
     "output_type": "stream",
     "text": [
      "{'input_shape': [128, 128, 3], 'output_size': 38, 'epochs_per_organism': 1, 'steps_per_epoch': 10, 'validation_steps': 10}\n",
      "{   'a_filter_size': (5, 5),\n",
      "    'a_include_BN': False,\n",
      "    'a_output_channels': 256,\n",
      "    'activation_type': <class 'tensorflow.python.keras.layers.advanced_activations.ReLU'>,\n",
      "    'b_filter_size': (9, 9),\n",
      "    'b_include_BN': False,\n",
      "    'b_output_channels': 32,\n",
      "    'include_pool': True,\n",
      "    'include_skip': False,\n",
      "    'pool_type': <class 'tensorflow.python.keras.layers.pooling.AveragePooling2D'>}\n",
      "BEST ORGANISM phase_0-gen_0-organism_1\n"
     ]
    },
    {
     "data": {
      "text/html": [
       "<br/>Waiting for W&B process to finish, PID 24363<br/>Program ended successfully."
      ],
      "text/plain": [
       "<IPython.core.display.HTML object>"
      ]
     },
     "metadata": {},
     "output_type": "display_data"
    },
    {
     "data": {
      "application/vnd.jupyter.widget-view+json": {
       "model_id": "",
       "version_major": 2,
       "version_minor": 0
      },
      "text/plain": [
       "VBox(children=(Label(value=' 0.21MB of 0.21MB uploaded (0.00MB deduped)\\r'), FloatProgress(value=1.0, max=1.0)…"
      ]
     },
     "metadata": {},
     "output_type": "display_data"
    },
    {
     "data": {
      "text/html": [
       "Find user logs for this run at: <code>/media/data/jacob/GitHub/genetic_algorithm/wandb/run-20201201_204510-35im7bma/logs/debug.log</code>"
      ],
      "text/plain": [
       "<IPython.core.display.HTML object>"
      ]
     },
     "metadata": {},
     "output_type": "display_data"
    },
    {
     "data": {
      "text/html": [
       "Find internal logs for this run at: <code>/media/data/jacob/GitHub/genetic_algorithm/wandb/run-20201201_204510-35im7bma/logs/debug-internal.log</code>"
      ],
      "text/plain": [
       "<IPython.core.display.HTML object>"
      ]
     },
     "metadata": {},
     "output_type": "display_data"
    },
    {
     "data": {
      "text/html": [
       "<h3>Run summary:</h3><br/><style>\n",
       "    table.wandb td:nth-child(1) { padding: 0 10px; text-align: right }\n",
       "    </style><table class=\"wandb\">\n",
       "<tr><td>population_size</td><td>3</td></tr><tr><td>Best fitness</td><td>0.09375</td></tr><tr><td>Average fitness</td><td>0.07083</td></tr><tr><td>_step</td><td>0</td></tr><tr><td>_runtime</td><td>1</td></tr><tr><td>_timestamp</td><td>1606873511</td></tr></table>"
      ],
      "text/plain": [
       "<IPython.core.display.HTML object>"
      ]
     },
     "metadata": {},
     "output_type": "display_data"
    },
    {
     "data": {
      "text/html": [
       "<h3>Run history:</h3><br/><style>\n",
       "    table.wandb td:nth-child(1) { padding: 0 10px; text-align: right }\n",
       "    </style><table class=\"wandb\">\n",
       "<tr><td>population_size</td><td>▁</td></tr><tr><td>Best fitness</td><td>▁</td></tr><tr><td>Average fitness</td><td>▁</td></tr><tr><td>_step</td><td>▁</td></tr><tr><td>_runtime</td><td>▁</td></tr><tr><td>_timestamp</td><td>▁</td></tr></table><br/>"
      ],
      "text/plain": [
       "<IPython.core.display.HTML object>"
      ]
     },
     "metadata": {},
     "output_type": "display_data"
    },
    {
     "data": {
      "text/html": [
       "Synced 6 W&B file(s), 0 media file(s), 0 artifact file(s) and 1 other file(s)"
      ],
      "text/plain": [
       "<IPython.core.display.HTML object>"
      ]
     },
     "metadata": {},
     "output_type": "display_data"
    },
    {
     "data": {
      "text/html": [
       "\n",
       "                    <br/>Synced <strong style=\"color:#cdcd00\">different-dream-15</strong>: <a href=\"https://wandb.ai/jrose/vlga-plant_village-DEBUG/runs/35im7bma\" target=\"_blank\">https://wandb.ai/jrose/vlga-plant_village-DEBUG/runs/35im7bma</a><br/>\n",
       "                "
      ],
      "text/plain": [
       "<IPython.core.display.HTML object>"
      ]
     },
     "metadata": {},
     "output_type": "display_data"
    },
    {
     "name": "stdout",
     "output_type": "stream",
     "text": [
      "\n",
      "\n",
      " RUN PHASE\n",
      "RUN GENERATION\n",
      "{'input_shape': [128, 128, 3], 'output_size': 38, 'epochs_per_organism': 1, 'steps_per_epoch': 10, 'validation_steps': 10}\n"
     ]
    },
    {
     "ename": "AttributeError",
     "evalue": "'dict' object has no attribute 'get_chromosome'",
     "output_type": "error",
     "traceback": [
      "\u001b[0;31m---------------------------------------------------------------------------\u001b[0m",
      "\u001b[0;31mAttributeError\u001b[0m                            Traceback (most recent call last)",
      "\u001b[0;32m<ipython-input-7-c6791f6da5a8>\u001b[0m in \u001b[0;36m<module>\u001b[0;34m\u001b[0m\n\u001b[0;32m----> 1\u001b[0;31m \u001b[0mget_ipython\u001b[0m\u001b[0;34m(\u001b[0m\u001b[0;34m)\u001b[0m\u001b[0;34m.\u001b[0m\u001b[0mrun_cell_magic\u001b[0m\u001b[0;34m(\u001b[0m\u001b[0;34m'memit'\u001b[0m\u001b[0;34m,\u001b[0m \u001b[0;34m''\u001b[0m\u001b[0;34m,\u001b[0m \u001b[0;34m'\\nmain(data=data, config=config, best_organism = None, verbose=True, debug=DEBUG)\\n'\u001b[0m\u001b[0;34m)\u001b[0m\u001b[0;34m\u001b[0m\u001b[0;34m\u001b[0m\u001b[0m\n\u001b[0m",
      "\u001b[0;32m/media/data/conda/jacob/envs/pyleaves2.3/lib/python3.7/site-packages/IPython/core/interactiveshell.py\u001b[0m in \u001b[0;36mrun_cell_magic\u001b[0;34m(self, magic_name, line, cell)\u001b[0m\n\u001b[1;32m   2379\u001b[0m             \u001b[0;32mwith\u001b[0m \u001b[0mself\u001b[0m\u001b[0;34m.\u001b[0m\u001b[0mbuiltin_trap\u001b[0m\u001b[0;34m:\u001b[0m\u001b[0;34m\u001b[0m\u001b[0;34m\u001b[0m\u001b[0m\n\u001b[1;32m   2380\u001b[0m                 \u001b[0margs\u001b[0m \u001b[0;34m=\u001b[0m \u001b[0;34m(\u001b[0m\u001b[0mmagic_arg_s\u001b[0m\u001b[0;34m,\u001b[0m \u001b[0mcell\u001b[0m\u001b[0;34m)\u001b[0m\u001b[0;34m\u001b[0m\u001b[0;34m\u001b[0m\u001b[0m\n\u001b[0;32m-> 2381\u001b[0;31m                 \u001b[0mresult\u001b[0m \u001b[0;34m=\u001b[0m \u001b[0mfn\u001b[0m\u001b[0;34m(\u001b[0m\u001b[0;34m*\u001b[0m\u001b[0margs\u001b[0m\u001b[0;34m,\u001b[0m \u001b[0;34m**\u001b[0m\u001b[0mkwargs\u001b[0m\u001b[0;34m)\u001b[0m\u001b[0;34m\u001b[0m\u001b[0;34m\u001b[0m\u001b[0m\n\u001b[0m\u001b[1;32m   2382\u001b[0m             \u001b[0;32mreturn\u001b[0m \u001b[0mresult\u001b[0m\u001b[0;34m\u001b[0m\u001b[0;34m\u001b[0m\u001b[0m\n\u001b[1;32m   2383\u001b[0m \u001b[0;34m\u001b[0m\u001b[0m\n",
      "\u001b[0;32m<decorator-gen-118>\u001b[0m in \u001b[0;36mmemit\u001b[0;34m(self, line, cell)\u001b[0m\n",
      "\u001b[0;32m/media/data/conda/jacob/envs/pyleaves2.3/lib/python3.7/site-packages/IPython/core/magic.py\u001b[0m in \u001b[0;36m<lambda>\u001b[0;34m(f, *a, **k)\u001b[0m\n\u001b[1;32m    185\u001b[0m     \u001b[0;31m# but it's overkill for just that one bit of state.\u001b[0m\u001b[0;34m\u001b[0m\u001b[0;34m\u001b[0m\u001b[0;34m\u001b[0m\u001b[0m\n\u001b[1;32m    186\u001b[0m     \u001b[0;32mdef\u001b[0m \u001b[0mmagic_deco\u001b[0m\u001b[0;34m(\u001b[0m\u001b[0marg\u001b[0m\u001b[0;34m)\u001b[0m\u001b[0;34m:\u001b[0m\u001b[0;34m\u001b[0m\u001b[0;34m\u001b[0m\u001b[0m\n\u001b[0;32m--> 187\u001b[0;31m         \u001b[0mcall\u001b[0m \u001b[0;34m=\u001b[0m \u001b[0;32mlambda\u001b[0m \u001b[0mf\u001b[0m\u001b[0;34m,\u001b[0m \u001b[0;34m*\u001b[0m\u001b[0ma\u001b[0m\u001b[0;34m,\u001b[0m \u001b[0;34m**\u001b[0m\u001b[0mk\u001b[0m\u001b[0;34m:\u001b[0m \u001b[0mf\u001b[0m\u001b[0;34m(\u001b[0m\u001b[0;34m*\u001b[0m\u001b[0ma\u001b[0m\u001b[0;34m,\u001b[0m \u001b[0;34m**\u001b[0m\u001b[0mk\u001b[0m\u001b[0;34m)\u001b[0m\u001b[0;34m\u001b[0m\u001b[0;34m\u001b[0m\u001b[0m\n\u001b[0m\u001b[1;32m    188\u001b[0m \u001b[0;34m\u001b[0m\u001b[0m\n\u001b[1;32m    189\u001b[0m         \u001b[0;32mif\u001b[0m \u001b[0mcallable\u001b[0m\u001b[0;34m(\u001b[0m\u001b[0marg\u001b[0m\u001b[0;34m)\u001b[0m\u001b[0;34m:\u001b[0m\u001b[0;34m\u001b[0m\u001b[0;34m\u001b[0m\u001b[0m\n",
      "\u001b[0;32m/media/data/conda/jacob/envs/pyleaves2.3/lib/python3.7/site-packages/memory_profiler.py\u001b[0m in \u001b[0;36mmemit\u001b[0;34m(self, line, cell)\u001b[0m\n\u001b[1;32m   1070\u001b[0m                                \u001b[0mtimeout\u001b[0m\u001b[0;34m=\u001b[0m\u001b[0mtimeout\u001b[0m\u001b[0;34m,\u001b[0m \u001b[0minterval\u001b[0m\u001b[0;34m=\u001b[0m\u001b[0minterval\u001b[0m\u001b[0;34m,\u001b[0m\u001b[0;34m\u001b[0m\u001b[0;34m\u001b[0m\u001b[0m\n\u001b[1;32m   1071\u001b[0m                                \u001b[0mmax_usage\u001b[0m\u001b[0;34m=\u001b[0m\u001b[0;32mTrue\u001b[0m\u001b[0;34m,\u001b[0m\u001b[0;34m\u001b[0m\u001b[0;34m\u001b[0m\u001b[0m\n\u001b[0;32m-> 1072\u001b[0;31m                                include_children=include_children)\n\u001b[0m\u001b[1;32m   1073\u001b[0m             \u001b[0mmem_usage\u001b[0m\u001b[0;34m.\u001b[0m\u001b[0mappend\u001b[0m\u001b[0;34m(\u001b[0m\u001b[0mtmp\u001b[0m\u001b[0;34m)\u001b[0m\u001b[0;34m\u001b[0m\u001b[0;34m\u001b[0m\u001b[0m\n\u001b[1;32m   1074\u001b[0m \u001b[0;34m\u001b[0m\u001b[0m\n",
      "\u001b[0;32m/media/data/conda/jacob/envs/pyleaves2.3/lib/python3.7/site-packages/memory_profiler.py\u001b[0m in \u001b[0;36mmemory_usage\u001b[0;34m(proc, interval, timeout, timestamps, include_children, multiprocess, max_usage, retval, stream, backend, max_iterations)\u001b[0m\n\u001b[1;32m    334\u001b[0m             \u001b[0;31m# Therefore, the whole process hangs indefinitely. Here, we are ensuring that the process gets killed!\u001b[0m\u001b[0;34m\u001b[0m\u001b[0;34m\u001b[0m\u001b[0;34m\u001b[0m\u001b[0m\n\u001b[1;32m    335\u001b[0m             \u001b[0;32mtry\u001b[0m\u001b[0;34m:\u001b[0m\u001b[0;34m\u001b[0m\u001b[0;34m\u001b[0m\u001b[0m\n\u001b[0;32m--> 336\u001b[0;31m                 \u001b[0mreturned\u001b[0m \u001b[0;34m=\u001b[0m \u001b[0mf\u001b[0m\u001b[0;34m(\u001b[0m\u001b[0;34m*\u001b[0m\u001b[0margs\u001b[0m\u001b[0;34m,\u001b[0m \u001b[0;34m**\u001b[0m\u001b[0mkw\u001b[0m\u001b[0;34m)\u001b[0m\u001b[0;34m\u001b[0m\u001b[0;34m\u001b[0m\u001b[0m\n\u001b[0m\u001b[1;32m    337\u001b[0m                 \u001b[0mparent_conn\u001b[0m\u001b[0;34m.\u001b[0m\u001b[0msend\u001b[0m\u001b[0;34m(\u001b[0m\u001b[0;36m0\u001b[0m\u001b[0;34m)\u001b[0m  \u001b[0;31m# finish timing\u001b[0m\u001b[0;34m\u001b[0m\u001b[0;34m\u001b[0m\u001b[0m\n\u001b[1;32m    338\u001b[0m                 \u001b[0mret\u001b[0m \u001b[0;34m=\u001b[0m \u001b[0mparent_conn\u001b[0m\u001b[0;34m.\u001b[0m\u001b[0mrecv\u001b[0m\u001b[0;34m(\u001b[0m\u001b[0;34m)\u001b[0m\u001b[0;34m\u001b[0m\u001b[0;34m\u001b[0m\u001b[0m\n",
      "\u001b[0;32m/media/data/conda/jacob/envs/pyleaves2.3/lib/python3.7/site-packages/memory_profiler.py\u001b[0m in \u001b[0;36m_func_exec\u001b[0;34m(stmt, ns)\u001b[0m\n\u001b[1;32m    843\u001b[0m     \u001b[0;31m# helper for magic_memit, just a function proxy for the exec\u001b[0m\u001b[0;34m\u001b[0m\u001b[0;34m\u001b[0m\u001b[0;34m\u001b[0m\u001b[0m\n\u001b[1;32m    844\u001b[0m     \u001b[0;31m# statement\u001b[0m\u001b[0;34m\u001b[0m\u001b[0;34m\u001b[0m\u001b[0;34m\u001b[0m\u001b[0m\n\u001b[0;32m--> 845\u001b[0;31m     \u001b[0mexec\u001b[0m\u001b[0;34m(\u001b[0m\u001b[0mstmt\u001b[0m\u001b[0;34m,\u001b[0m \u001b[0mns\u001b[0m\u001b[0;34m)\u001b[0m\u001b[0;34m\u001b[0m\u001b[0;34m\u001b[0m\u001b[0m\n\u001b[0m\u001b[1;32m    846\u001b[0m \u001b[0;34m\u001b[0m\u001b[0m\n\u001b[1;32m    847\u001b[0m \u001b[0;34m\u001b[0m\u001b[0m\n",
      "\u001b[0;32m<string>\u001b[0m in \u001b[0;36m<module>\u001b[0;34m\u001b[0m\n",
      "\u001b[0;32m/media/data/jacob/GitHub/genetic_algorithm/main.py\u001b[0m in \u001b[0;36mmain\u001b[0;34m(data, config, best_organism, verbose, debug)\u001b[0m\n\u001b[1;32m     18\u001b[0m                                 DEBUG=debug)\n\u001b[1;32m     19\u001b[0m \u001b[0;34m\u001b[0m\u001b[0m\n\u001b[0;32m---> 20\u001b[0;31m         \u001b[0mbest_organism\u001b[0m \u001b[0;34m=\u001b[0m \u001b[0mgeneration\u001b[0m\u001b[0;34m.\u001b[0m\u001b[0mrun_phase\u001b[0m\u001b[0;34m(\u001b[0m\u001b[0;34m)\u001b[0m\u001b[0;34m\u001b[0m\u001b[0;34m\u001b[0m\u001b[0m\n\u001b[0m",
      "\u001b[0;32m/media/data/jacob/GitHub/genetic_algorithm/genetic_algorithm/generation/generation.py\u001b[0m in \u001b[0;36mrun_phase\u001b[0;34m(self)\u001b[0m\n\u001b[1;32m    259\u001b[0m         \u001b[0mprint\u001b[0m\u001b[0;34m(\u001b[0m\u001b[0;34m'\\n'\u001b[0m\u001b[0;34m*\u001b[0m\u001b[0;36m2\u001b[0m\u001b[0;34m,\u001b[0m\u001b[0;34m'RUN PHASE'\u001b[0m\u001b[0;34m)\u001b[0m\u001b[0;34m\u001b[0m\u001b[0;34m\u001b[0m\u001b[0m\n\u001b[1;32m    260\u001b[0m         \u001b[0;32mwhile\u001b[0m \u001b[0mself\u001b[0m\u001b[0;34m.\u001b[0m\u001b[0mgeneration_number\u001b[0m \u001b[0;34m<\u001b[0m \u001b[0mself\u001b[0m\u001b[0;34m.\u001b[0m\u001b[0mnum_generations_per_phase\u001b[0m\u001b[0;34m:\u001b[0m\u001b[0;34m\u001b[0m\u001b[0;34m\u001b[0m\u001b[0m\n\u001b[0;32m--> 261\u001b[0;31m             \u001b[0mbest_organism\u001b[0m \u001b[0;34m=\u001b[0m \u001b[0mself\u001b[0m\u001b[0;34m.\u001b[0m\u001b[0mrun_generation\u001b[0m\u001b[0;34m(\u001b[0m\u001b[0;34m)\u001b[0m\u001b[0;34m\u001b[0m\u001b[0;34m\u001b[0m\u001b[0m\n\u001b[0m\u001b[1;32m    262\u001b[0m             \u001b[0mprint\u001b[0m\u001b[0;34m(\u001b[0m\u001b[0;34mf'FINISHED GENERATION {self.generation_number}'\u001b[0m\u001b[0;34m)\u001b[0m\u001b[0;34m\u001b[0m\u001b[0;34m\u001b[0m\u001b[0m\n\u001b[1;32m    263\u001b[0m             \u001b[0mprint\u001b[0m\u001b[0;34m(\u001b[0m\u001b[0mvars\u001b[0m\u001b[0;34m(\u001b[0m\u001b[0;34m)\u001b[0m\u001b[0;34m)\u001b[0m\u001b[0;34m\u001b[0m\u001b[0;34m\u001b[0m\u001b[0m\n",
      "\u001b[0;32m/media/data/jacob/GitHub/genetic_algorithm/genetic_algorithm/generation/generation.py\u001b[0m in \u001b[0;36mrun_generation\u001b[0;34m(self)\u001b[0m\n\u001b[1;32m    249\u001b[0m     \u001b[0;32mdef\u001b[0m \u001b[0mrun_generation\u001b[0m\u001b[0;34m(\u001b[0m\u001b[0mself\u001b[0m\u001b[0;34m)\u001b[0m\u001b[0;34m:\u001b[0m\u001b[0;34m\u001b[0m\u001b[0;34m\u001b[0m\u001b[0m\n\u001b[1;32m    250\u001b[0m         \u001b[0mprint\u001b[0m\u001b[0;34m(\u001b[0m\u001b[0;34m'RUN GENERATION'\u001b[0m\u001b[0;34m)\u001b[0m\u001b[0;34m\u001b[0m\u001b[0;34m\u001b[0m\u001b[0m\n\u001b[0;32m--> 251\u001b[0;31m         \u001b[0mself\u001b[0m\u001b[0;34m.\u001b[0m\u001b[0mgenerate\u001b[0m\u001b[0;34m(\u001b[0m\u001b[0;34m)\u001b[0m\u001b[0;34m\u001b[0m\u001b[0;34m\u001b[0m\u001b[0m\n\u001b[0m\u001b[1;32m    252\u001b[0m         \u001b[0mlast\u001b[0m \u001b[0;34m=\u001b[0m \u001b[0;32mFalse\u001b[0m\u001b[0;34m\u001b[0m\u001b[0;34m\u001b[0m\u001b[0m\n\u001b[1;32m    253\u001b[0m         \u001b[0;32mif\u001b[0m \u001b[0mself\u001b[0m\u001b[0;34m.\u001b[0m\u001b[0mgeneration_number\u001b[0m \u001b[0;34m==\u001b[0m \u001b[0mself\u001b[0m\u001b[0;34m.\u001b[0m\u001b[0mnum_generations_per_phase\u001b[0m\u001b[0;34m:\u001b[0m\u001b[0;34m\u001b[0m\u001b[0;34m\u001b[0m\u001b[0m\n",
      "\u001b[0;32m/media/data/jacob/GitHub/genetic_algorithm/genetic_algorithm/generation/generation.py\u001b[0m in \u001b[0;36mgenerate\u001b[0;34m(self)\u001b[0m\n\u001b[1;32m    202\u001b[0m             \u001b[0mA\u001b[0m\u001b[0;34m=\u001b[0m\u001b[0mparents\u001b[0m\u001b[0;34m[\u001b[0m\u001b[0;36m0\u001b[0m\u001b[0;34m]\u001b[0m\u001b[0;34m\u001b[0m\u001b[0;34m\u001b[0m\u001b[0m\n\u001b[1;32m    203\u001b[0m             \u001b[0mB\u001b[0m\u001b[0;34m=\u001b[0m\u001b[0mparents\u001b[0m\u001b[0;34m[\u001b[0m\u001b[0;36m1\u001b[0m\u001b[0;34m]\u001b[0m\u001b[0;34m\u001b[0m\u001b[0;34m\u001b[0m\u001b[0m\n\u001b[0;32m--> 204\u001b[0;31m             \u001b[0mchild\u001b[0m\u001b[0;34m=\u001b[0m\u001b[0mA\u001b[0m\u001b[0;34m.\u001b[0m\u001b[0mcrossover\u001b[0m\u001b[0;34m(\u001b[0m\u001b[0mB\u001b[0m\u001b[0;34m,\u001b[0m \u001b[0mgeneration_number\u001b[0m\u001b[0;34m=\u001b[0m\u001b[0mself\u001b[0m\u001b[0;34m.\u001b[0m\u001b[0mgeneration_number\u001b[0m\u001b[0;34m)\u001b[0m\u001b[0;34m\u001b[0m\u001b[0;34m\u001b[0m\u001b[0m\n\u001b[0m\u001b[1;32m    205\u001b[0m             \u001b[0mchildren\u001b[0m\u001b[0;34m.\u001b[0m\u001b[0mappend\u001b[0m\u001b[0;34m(\u001b[0m\u001b[0mchild\u001b[0m\u001b[0;34m)\u001b[0m\u001b[0;34m\u001b[0m\u001b[0;34m\u001b[0m\u001b[0m\n\u001b[1;32m    206\u001b[0m         \u001b[0mself\u001b[0m\u001b[0;34m.\u001b[0m\u001b[0mpopulation\u001b[0m \u001b[0;34m=\u001b[0m \u001b[0mnew_pop\u001b[0m\u001b[0;34m+\u001b[0m\u001b[0mchildren\u001b[0m\u001b[0;34m\u001b[0m\u001b[0;34m\u001b[0m\u001b[0m\n",
      "\u001b[0;32m/media/data/jacob/GitHub/genetic_algorithm/genetic_algorithm/organism/organism.py\u001b[0m in \u001b[0;36mcrossover\u001b[0;34m(self, partner, generation_number)\u001b[0m\n\u001b[1;32m    252\u001b[0m                          best_organism=self.best_organism)\n\u001b[1;32m    253\u001b[0m \u001b[0;34m\u001b[0m\u001b[0m\n\u001b[0;32m--> 254\u001b[0;31m         \u001b[0mchild\u001b[0m\u001b[0;34m.\u001b[0m\u001b[0mbuild_model\u001b[0m\u001b[0;34m(\u001b[0m\u001b[0;34m)\u001b[0m\u001b[0;34m\u001b[0m\u001b[0;34m\u001b[0m\u001b[0m\n\u001b[0m\u001b[1;32m    255\u001b[0m         child.fitnessFunction(self.train_data,\n\u001b[1;32m    256\u001b[0m                               \u001b[0mself\u001b[0m\u001b[0;34m.\u001b[0m\u001b[0mval_data\u001b[0m\u001b[0;34m,\u001b[0m\u001b[0;34m\u001b[0m\u001b[0;34m\u001b[0m\u001b[0m\n",
      "\u001b[0;32m/media/data/jacob/GitHub/genetic_algorithm/genetic_algorithm/organism/organism.py\u001b[0m in \u001b[0;36mbuild_model\u001b[0;34m(self)\u001b[0m\n\u001b[1;32m    136\u001b[0m             \u001b[0;31m# For PHASE 0 only\u001b[0m\u001b[0;34m\u001b[0m\u001b[0;34m\u001b[0m\u001b[0;34m\u001b[0m\u001b[0m\n\u001b[1;32m    137\u001b[0m             \u001b[0;31m# input layer\u001b[0m\u001b[0;34m\u001b[0m\u001b[0;34m\u001b[0m\u001b[0;34m\u001b[0m\u001b[0m\n\u001b[0;32m--> 138\u001b[0;31m             x = Conv2D(filters=self.chromosome['a_output_channels'],\n\u001b[0m\u001b[1;32m    139\u001b[0m                        \u001b[0mpadding\u001b[0m\u001b[0;34m=\u001b[0m\u001b[0;34m'same'\u001b[0m\u001b[0;34m,\u001b[0m\u001b[0;34m\u001b[0m\u001b[0;34m\u001b[0m\u001b[0m\n\u001b[1;32m    140\u001b[0m                        \u001b[0mkernel_size\u001b[0m\u001b[0;34m=\u001b[0m\u001b[0mself\u001b[0m\u001b[0;34m.\u001b[0m\u001b[0mchromosome\u001b[0m\u001b[0;34m[\u001b[0m\u001b[0;34m'a_filter_size'\u001b[0m\u001b[0;34m]\u001b[0m\u001b[0;34m,\u001b[0m\u001b[0;34m\u001b[0m\u001b[0;34m\u001b[0m\u001b[0m\n",
      "\u001b[0;32m/media/data/jacob/GitHub/genetic_algorithm/genetic_algorithm/organism/organism.py\u001b[0m in \u001b[0;36mchromosome\u001b[0;34m(self)\u001b[0m\n\u001b[1;32m    106\u001b[0m     \u001b[0;34m@\u001b[0m\u001b[0mproperty\u001b[0m\u001b[0;34m\u001b[0m\u001b[0;34m\u001b[0m\u001b[0m\n\u001b[1;32m    107\u001b[0m     \u001b[0;32mdef\u001b[0m \u001b[0mchromosome\u001b[0m\u001b[0;34m(\u001b[0m\u001b[0mself\u001b[0m\u001b[0;34m)\u001b[0m\u001b[0;34m:\u001b[0m\u001b[0;34m\u001b[0m\u001b[0;34m\u001b[0m\u001b[0m\n\u001b[0;32m--> 108\u001b[0;31m         \u001b[0;32mreturn\u001b[0m \u001b[0mself\u001b[0m\u001b[0;34m.\u001b[0m\u001b[0m_chromosome\u001b[0m\u001b[0;34m.\u001b[0m\u001b[0mget_chromosome\u001b[0m\u001b[0;34m(\u001b[0m\u001b[0mserialized\u001b[0m\u001b[0;34m=\u001b[0m\u001b[0;32mFalse\u001b[0m\u001b[0;34m)\u001b[0m\u001b[0;34m\u001b[0m\u001b[0;34m\u001b[0m\u001b[0m\n\u001b[0m\u001b[1;32m    109\u001b[0m \u001b[0;34m\u001b[0m\u001b[0m\n\u001b[1;32m    110\u001b[0m     \u001b[0;34m@\u001b[0m\u001b[0mchromosome\u001b[0m\u001b[0;34m.\u001b[0m\u001b[0msetter\u001b[0m\u001b[0;34m\u001b[0m\u001b[0;34m\u001b[0m\u001b[0m\n",
      "\u001b[0;31mAttributeError\u001b[0m: 'dict' object has no attribute 'get_chromosome'"
     ]
    }
   ],
   "source": [
    "%%memit\n",
    "\n",
    "main(data=data, config=config, best_organism = None, verbose=True, debug=DEBUG)"
   ]
  },
  {
   "cell_type": "code",
   "execution_count": 17,
   "metadata": {},
   "outputs": [
    {
     "name": "stderr",
     "output_type": "stream",
     "text": [
      "/media/data/conda/jacob/envs/pyleaves2.3/lib/python3.7/site-packages/ipykernel/ipkernel.py:287: DeprecationWarning: `should_run_async` will not call `transform_cell` automatically in the future. Please pass the result to `transformed_cell` argument and any exception that happen during thetransform in `preprocessing_exc_tuple` in IPython 7.17 and above.\n",
      "  and should_run_async(code)\n"
     ]
    },
    {
     "name": "stdout",
     "output_type": "stream",
     "text": [
      "> \u001b[0;32m/media/data/conda/jacob/envs/pyleaves2.3/lib/python3.7/site-packages/box/box.py\u001b[0m(471)\u001b[0;36m__getitem__\u001b[0;34m()\u001b[0m\n",
      "\u001b[0;32m    469 \u001b[0;31m            \u001b[0;32mif\u001b[0m \u001b[0mself\u001b[0m\u001b[0;34m.\u001b[0m\u001b[0m_box_config\u001b[0m\u001b[0;34m[\u001b[0m\u001b[0;34m\"default_box\"\u001b[0m\u001b[0;34m]\u001b[0m \u001b[0;32mand\u001b[0m \u001b[0;32mnot\u001b[0m \u001b[0m_ignore_default\u001b[0m\u001b[0;34m:\u001b[0m\u001b[0;34m\u001b[0m\u001b[0;34m\u001b[0m\u001b[0m\n",
      "\u001b[0m\u001b[0;32m    470 \u001b[0;31m                \u001b[0;32mreturn\u001b[0m \u001b[0mself\u001b[0m\u001b[0;34m.\u001b[0m\u001b[0m__get_default\u001b[0m\u001b[0;34m(\u001b[0m\u001b[0mitem\u001b[0m\u001b[0;34m)\u001b[0m\u001b[0;34m\u001b[0m\u001b[0;34m\u001b[0m\u001b[0m\n",
      "\u001b[0m\u001b[0;32m--> 471 \u001b[0;31m            \u001b[0;32mraise\u001b[0m \u001b[0mBoxKeyError\u001b[0m\u001b[0;34m(\u001b[0m\u001b[0mstr\u001b[0m\u001b[0;34m(\u001b[0m\u001b[0merr\u001b[0m\u001b[0;34m)\u001b[0m\u001b[0;34m)\u001b[0m \u001b[0;32mfrom\u001b[0m \u001b[0;32mNone\u001b[0m\u001b[0;34m\u001b[0m\u001b[0;34m\u001b[0m\u001b[0m\n",
      "\u001b[0m\u001b[0;32m    472 \u001b[0;31m\u001b[0;34m\u001b[0m\u001b[0m\n",
      "\u001b[0m\u001b[0;32m    473 \u001b[0;31m    \u001b[0;32mdef\u001b[0m \u001b[0m__getattr__\u001b[0m\u001b[0;34m(\u001b[0m\u001b[0mself\u001b[0m\u001b[0;34m,\u001b[0m \u001b[0mitem\u001b[0m\u001b[0;34m)\u001b[0m\u001b[0;34m:\u001b[0m\u001b[0;34m\u001b[0m\u001b[0;34m\u001b[0m\u001b[0m\n",
      "\u001b[0m\n"
     ]
    },
    {
     "name": "stdin",
     "output_type": "stream",
     "text": [
      "ipdb>  u\n"
     ]
    },
    {
     "name": "stdout",
     "output_type": "stream",
     "text": [
      "> \u001b[0;32m/media/data/jacob/GitHub/genetic_algorithm/genetic_algorithm/chromosome.py\u001b[0m(52)\u001b[0;36mget_chromosome\u001b[0;34m()\u001b[0m\n",
      "\u001b[0;32m     50 \u001b[0;31m            \u001b[0;32mreturn\u001b[0m \u001b[0mself\u001b[0m\u001b[0;34m.\u001b[0m\u001b[0mget_state\u001b[0m\u001b[0;34m(\u001b[0m\u001b[0;34m)\u001b[0m\u001b[0;34m\u001b[0m\u001b[0;34m\u001b[0m\u001b[0m\n",
      "\u001b[0m\u001b[0;32m     51 \u001b[0;31m        \u001b[0mstate\u001b[0m \u001b[0;34m=\u001b[0m \u001b[0mcopy\u001b[0m\u001b[0;34m.\u001b[0m\u001b[0mdeepcopy\u001b[0m\u001b[0;34m(\u001b[0m\u001b[0mself\u001b[0m\u001b[0;34m.\u001b[0m\u001b[0mget_state\u001b[0m\u001b[0;34m(\u001b[0m\u001b[0;34m)\u001b[0m\u001b[0;34m)\u001b[0m\u001b[0;34m\u001b[0m\u001b[0;34m\u001b[0m\u001b[0m\n",
      "\u001b[0m\u001b[0;32m---> 52 \u001b[0;31m        \u001b[0mstate\u001b[0m\u001b[0;34m[\u001b[0m\u001b[0;34m'activation_type'\u001b[0m\u001b[0;34m]\u001b[0m \u001b[0;34m=\u001b[0m \u001b[0mActivationLayers\u001b[0m\u001b[0;34m[\u001b[0m\u001b[0mstate\u001b[0m\u001b[0;34m[\u001b[0m\u001b[0;34m'activation_type'\u001b[0m\u001b[0;34m]\u001b[0m\u001b[0;34m]\u001b[0m\u001b[0;34m\u001b[0m\u001b[0;34m\u001b[0m\u001b[0m\n",
      "\u001b[0m\u001b[0;32m     53 \u001b[0;31m        \u001b[0mstate\u001b[0m\u001b[0;34m[\u001b[0m\u001b[0;34m'pool_type'\u001b[0m\u001b[0;34m]\u001b[0m \u001b[0;34m=\u001b[0m \u001b[0mPoolingLayers\u001b[0m\u001b[0;34m[\u001b[0m\u001b[0mstate\u001b[0m\u001b[0;34m[\u001b[0m\u001b[0;34m'pool_type'\u001b[0m\u001b[0;34m]\u001b[0m\u001b[0;34m]\u001b[0m\u001b[0;34m\u001b[0m\u001b[0;34m\u001b[0m\u001b[0m\n",
      "\u001b[0m\u001b[0;32m     54 \u001b[0;31m        \u001b[0;32mreturn\u001b[0m \u001b[0mstate\u001b[0m\u001b[0;34m\u001b[0m\u001b[0;34m\u001b[0m\u001b[0m\n",
      "\u001b[0m\n"
     ]
    },
    {
     "name": "stdin",
     "output_type": "stream",
     "text": [
      "ipdb>  ll\n"
     ]
    },
    {
     "name": "stdout",
     "output_type": "stream",
     "text": [
      "\u001b[1;32m     48 \u001b[0m    \u001b[0;32mdef\u001b[0m \u001b[0mget_chromosome\u001b[0m\u001b[0;34m(\u001b[0m\u001b[0mself\u001b[0m\u001b[0;34m,\u001b[0m \u001b[0mserialized\u001b[0m\u001b[0;34m=\u001b[0m\u001b[0;32mFalse\u001b[0m\u001b[0;34m)\u001b[0m\u001b[0;34m:\u001b[0m\u001b[0;34m\u001b[0m\u001b[0;34m\u001b[0m\u001b[0m\n",
      "\u001b[1;32m     49 \u001b[0m        \u001b[0;32mif\u001b[0m \u001b[0mserialized\u001b[0m\u001b[0;34m:\u001b[0m\u001b[0;34m\u001b[0m\u001b[0;34m\u001b[0m\u001b[0m\n",
      "\u001b[1;32m     50 \u001b[0m            \u001b[0;32mreturn\u001b[0m \u001b[0mself\u001b[0m\u001b[0;34m.\u001b[0m\u001b[0mget_state\u001b[0m\u001b[0;34m(\u001b[0m\u001b[0;34m)\u001b[0m\u001b[0;34m\u001b[0m\u001b[0;34m\u001b[0m\u001b[0m\n",
      "\u001b[1;32m     51 \u001b[0m        \u001b[0mstate\u001b[0m \u001b[0;34m=\u001b[0m \u001b[0mcopy\u001b[0m\u001b[0;34m.\u001b[0m\u001b[0mdeepcopy\u001b[0m\u001b[0;34m(\u001b[0m\u001b[0mself\u001b[0m\u001b[0;34m.\u001b[0m\u001b[0mget_state\u001b[0m\u001b[0;34m(\u001b[0m\u001b[0;34m)\u001b[0m\u001b[0;34m)\u001b[0m\u001b[0;34m\u001b[0m\u001b[0;34m\u001b[0m\u001b[0m\n",
      "\u001b[0;32m---> 52 \u001b[0;31m        \u001b[0mstate\u001b[0m\u001b[0;34m[\u001b[0m\u001b[0;34m'activation_type'\u001b[0m\u001b[0;34m]\u001b[0m \u001b[0;34m=\u001b[0m \u001b[0mActivationLayers\u001b[0m\u001b[0;34m[\u001b[0m\u001b[0mstate\u001b[0m\u001b[0;34m[\u001b[0m\u001b[0;34m'activation_type'\u001b[0m\u001b[0;34m]\u001b[0m\u001b[0;34m]\u001b[0m\u001b[0;34m\u001b[0m\u001b[0;34m\u001b[0m\u001b[0m\n",
      "\u001b[0m\u001b[1;32m     53 \u001b[0m        \u001b[0mstate\u001b[0m\u001b[0;34m[\u001b[0m\u001b[0;34m'pool_type'\u001b[0m\u001b[0;34m]\u001b[0m \u001b[0;34m=\u001b[0m \u001b[0mPoolingLayers\u001b[0m\u001b[0;34m[\u001b[0m\u001b[0mstate\u001b[0m\u001b[0;34m[\u001b[0m\u001b[0;34m'pool_type'\u001b[0m\u001b[0;34m]\u001b[0m\u001b[0;34m]\u001b[0m\u001b[0;34m\u001b[0m\u001b[0;34m\u001b[0m\u001b[0m\n",
      "\u001b[1;32m     54 \u001b[0m        \u001b[0;32mreturn\u001b[0m \u001b[0mstate\u001b[0m\u001b[0;34m\u001b[0m\u001b[0;34m\u001b[0m\u001b[0m\n",
      "\u001b[1;32m     55 \u001b[0m\u001b[0;34m\u001b[0m\u001b[0m\n",
      "\u001b[1;32m     56 \u001b[0m\u001b[0;31m#     @property\u001b[0m\u001b[0;34m\u001b[0m\u001b[0;34m\u001b[0m\u001b[0;34m\u001b[0m\u001b[0m\n",
      "\u001b[1;32m     57 \u001b[0m\u001b[0;31m#     def deserialized_state(self):\u001b[0m\u001b[0;34m\u001b[0m\u001b[0;34m\u001b[0m\u001b[0;34m\u001b[0m\u001b[0m\n",
      "\u001b[1;32m     58 \u001b[0m\u001b[0;31m#         state = copy.deepcopy(self.get_state())\u001b[0m\u001b[0;34m\u001b[0m\u001b[0;34m\u001b[0m\u001b[0;34m\u001b[0m\u001b[0m\n",
      "\u001b[1;32m     59 \u001b[0m\u001b[0;31m#         state['activation_type'] = ActivationLayers[state['activation_type']]\u001b[0m\u001b[0;34m\u001b[0m\u001b[0;34m\u001b[0m\u001b[0;34m\u001b[0m\u001b[0m\n",
      "\u001b[1;32m     60 \u001b[0m\u001b[0;31m#         state['pool_type'] = PoolingLayers[state['pool_type']]\u001b[0m\u001b[0;34m\u001b[0m\u001b[0;34m\u001b[0m\u001b[0;34m\u001b[0m\u001b[0m\n",
      "\u001b[1;32m     61 \u001b[0m\u001b[0;34m\u001b[0m\u001b[0m\n",
      "\u001b[1;32m     62 \u001b[0m\u001b[0;31m#         state['activation_type'] = [ActivationLayers[act_layer] for act_layer in state['activation_type']]\u001b[0m\u001b[0;34m\u001b[0m\u001b[0;34m\u001b[0m\u001b[0;34m\u001b[0m\u001b[0m\n",
      "\u001b[1;32m     63 \u001b[0m\u001b[0;31m#         state['pool_type'] = [PoolingLayers[pool_layer] for pool_layer in state['pool_type']]\u001b[0m\u001b[0;34m\u001b[0m\u001b[0;34m\u001b[0m\u001b[0;34m\u001b[0m\u001b[0m\n",
      "\u001b[1;32m     64 \u001b[0m        \u001b[0;32mreturn\u001b[0m \u001b[0mstate\u001b[0m\u001b[0;34m\u001b[0m\u001b[0;34m\u001b[0m\u001b[0m\n",
      "\u001b[1;32m     65 \u001b[0m\u001b[0;34m\u001b[0m\u001b[0m\n",
      "\n"
     ]
    },
    {
     "name": "stdin",
     "output_type": "stream",
     "text": [
      "ipdb>  u\n"
     ]
    },
    {
     "name": "stdout",
     "output_type": "stream",
     "text": [
      "> \u001b[0;32m/media/data/jacob/GitHub/genetic_algorithm/genetic_algorithm/organism/organism.py\u001b[0m(108)\u001b[0;36mchromosome\u001b[0;34m()\u001b[0m\n",
      "\u001b[0;32m    106 \u001b[0;31m    \u001b[0;34m@\u001b[0m\u001b[0mproperty\u001b[0m\u001b[0;34m\u001b[0m\u001b[0;34m\u001b[0m\u001b[0m\n",
      "\u001b[0m\u001b[0;32m    107 \u001b[0;31m    \u001b[0;32mdef\u001b[0m \u001b[0mchromosome\u001b[0m\u001b[0;34m(\u001b[0m\u001b[0mself\u001b[0m\u001b[0;34m)\u001b[0m\u001b[0;34m:\u001b[0m\u001b[0;34m\u001b[0m\u001b[0;34m\u001b[0m\u001b[0m\n",
      "\u001b[0m\u001b[0;32m--> 108 \u001b[0;31m        \u001b[0;32mreturn\u001b[0m \u001b[0mself\u001b[0m\u001b[0;34m.\u001b[0m\u001b[0m_chromosome\u001b[0m\u001b[0;34m.\u001b[0m\u001b[0mget_chromosome\u001b[0m\u001b[0;34m(\u001b[0m\u001b[0mserialized\u001b[0m\u001b[0;34m=\u001b[0m\u001b[0;32mFalse\u001b[0m\u001b[0;34m)\u001b[0m\u001b[0;34m\u001b[0m\u001b[0;34m\u001b[0m\u001b[0m\n",
      "\u001b[0m\u001b[0;32m    109 \u001b[0;31m\u001b[0;34m\u001b[0m\u001b[0m\n",
      "\u001b[0m\u001b[0;32m    110 \u001b[0;31m    \u001b[0;34m@\u001b[0m\u001b[0mchromosome\u001b[0m\u001b[0;34m.\u001b[0m\u001b[0msetter\u001b[0m\u001b[0;34m\u001b[0m\u001b[0;34m\u001b[0m\u001b[0m\n",
      "\u001b[0m\n"
     ]
    },
    {
     "name": "stdin",
     "output_type": "stream",
     "text": [
      "ipdb>  \n"
     ]
    },
    {
     "name": "stdout",
     "output_type": "stream",
     "text": [
      "> \u001b[0;32m/media/data/jacob/GitHub/genetic_algorithm/genetic_algorithm/organism/organism.py\u001b[0m(138)\u001b[0;36mbuild_model\u001b[0;34m()\u001b[0m\n",
      "\u001b[0;32m    136 \u001b[0;31m            \u001b[0;31m# For PHASE 0 only\u001b[0m\u001b[0;34m\u001b[0m\u001b[0;34m\u001b[0m\u001b[0;34m\u001b[0m\u001b[0m\n",
      "\u001b[0m\u001b[0;32m    137 \u001b[0;31m            \u001b[0;31m# input layer\u001b[0m\u001b[0;34m\u001b[0m\u001b[0;34m\u001b[0m\u001b[0;34m\u001b[0m\u001b[0m\n",
      "\u001b[0m\u001b[0;32m--> 138 \u001b[0;31m            x = Conv2D(filters=self.chromosome['a_output_channels'],\n",
      "\u001b[0m\u001b[0;32m    139 \u001b[0;31m                       \u001b[0mpadding\u001b[0m\u001b[0;34m=\u001b[0m\u001b[0;34m'same'\u001b[0m\u001b[0;34m,\u001b[0m\u001b[0;34m\u001b[0m\u001b[0;34m\u001b[0m\u001b[0m\n",
      "\u001b[0m\u001b[0;32m    140 \u001b[0;31m                       \u001b[0mkernel_size\u001b[0m\u001b[0;34m=\u001b[0m\u001b[0mself\u001b[0m\u001b[0;34m.\u001b[0m\u001b[0mchromosome\u001b[0m\u001b[0;34m[\u001b[0m\u001b[0;34m'a_filter_size'\u001b[0m\u001b[0;34m]\u001b[0m\u001b[0;34m,\u001b[0m\u001b[0;34m\u001b[0m\u001b[0;34m\u001b[0m\u001b[0m\n",
      "\u001b[0m\n"
     ]
    },
    {
     "name": "stdin",
     "output_type": "stream",
     "text": [
      "ipdb>  ll\n"
     ]
    },
    {
     "name": "stdout",
     "output_type": "stream",
     "text": [
      "\u001b[1;32m    114 \u001b[0m    \u001b[0;32mdef\u001b[0m \u001b[0mbuild_model\u001b[0m\u001b[0;34m(\u001b[0m\u001b[0mself\u001b[0m\u001b[0;34m)\u001b[0m\u001b[0;34m:\u001b[0m\u001b[0;34m\u001b[0m\u001b[0;34m\u001b[0m\u001b[0m\n",
      "\u001b[1;32m    115 \u001b[0m        '''\n",
      "\u001b[1;32m    116 \u001b[0m        \u001b[0mThis\u001b[0m \u001b[0;32mis\u001b[0m \u001b[0mthe\u001b[0m \u001b[0mfunction\u001b[0m \u001b[0mto\u001b[0m \u001b[0mbuild\u001b[0m \u001b[0mthe\u001b[0m \u001b[0mkeras\u001b[0m \u001b[0mmodel\u001b[0m\u001b[0;34m\u001b[0m\u001b[0;34m\u001b[0m\u001b[0m\n",
      "\u001b[1;32m    117 \u001b[0m        '''\n",
      "\u001b[1;32m    118 \u001b[0m        \u001b[0mK\u001b[0m\u001b[0;34m.\u001b[0m\u001b[0mclear_session\u001b[0m\u001b[0;34m(\u001b[0m\u001b[0;34m)\u001b[0m\u001b[0;34m\u001b[0m\u001b[0;34m\u001b[0m\u001b[0m\n",
      "\u001b[1;32m    119 \u001b[0m        \u001b[0mgc\u001b[0m\u001b[0;34m.\u001b[0m\u001b[0mcollect\u001b[0m\u001b[0;34m(\u001b[0m\u001b[0;34m)\u001b[0m\u001b[0;34m\u001b[0m\u001b[0;34m\u001b[0m\u001b[0m\n",
      "\u001b[1;32m    120 \u001b[0m        \u001b[0minputs\u001b[0m \u001b[0;34m=\u001b[0m \u001b[0mInput\u001b[0m\u001b[0;34m(\u001b[0m\u001b[0mshape\u001b[0m\u001b[0;34m=\u001b[0m\u001b[0mself\u001b[0m\u001b[0;34m.\u001b[0m\u001b[0mconfig\u001b[0m\u001b[0;34m.\u001b[0m\u001b[0minput_shape\u001b[0m\u001b[0;34m)\u001b[0m\u001b[0;34m\u001b[0m\u001b[0;34m\u001b[0m\u001b[0m\n",
      "\u001b[1;32m    121 \u001b[0m        \u001b[0;32mif\u001b[0m \u001b[0mself\u001b[0m\u001b[0;34m.\u001b[0m\u001b[0mphase\u001b[0m \u001b[0;34m!=\u001b[0m \u001b[0;36m0\u001b[0m\u001b[0;34m:\u001b[0m\u001b[0;34m\u001b[0m\u001b[0;34m\u001b[0m\u001b[0m\n",
      "\u001b[1;32m    122 \u001b[0m            \u001b[0;31m# Slice the prev best model # Use the model as a layer # Attach new layer to the sliced model\u001b[0m\u001b[0;34m\u001b[0m\u001b[0;34m\u001b[0m\u001b[0;34m\u001b[0m\u001b[0m\n",
      "\u001b[1;32m    123 \u001b[0m            intermediate_model = Model(inputs=self.last_model.input,\n",
      "\u001b[1;32m    124 \u001b[0m                                       outputs=self.last_model.layers[-3].output)\n",
      "\u001b[1;32m    125 \u001b[0m            \u001b[0;32mfor\u001b[0m \u001b[0mlayer\u001b[0m \u001b[0;32min\u001b[0m \u001b[0mintermediate_model\u001b[0m\u001b[0;34m.\u001b[0m\u001b[0mlayers\u001b[0m\u001b[0;34m:\u001b[0m\u001b[0;34m\u001b[0m\u001b[0;34m\u001b[0m\u001b[0m\n",
      "\u001b[1;32m    126 \u001b[0m                \u001b[0;31m# To make the iteration efficient\u001b[0m\u001b[0;34m\u001b[0m\u001b[0;34m\u001b[0m\u001b[0;34m\u001b[0m\u001b[0m\n",
      "\u001b[1;32m    127 \u001b[0m                \u001b[0mlayer\u001b[0m\u001b[0;34m.\u001b[0m\u001b[0mtrainable\u001b[0m \u001b[0;34m=\u001b[0m \u001b[0;32mFalse\u001b[0m\u001b[0;34m\u001b[0m\u001b[0;34m\u001b[0m\u001b[0m\n",
      "\u001b[1;32m    128 \u001b[0m            \u001b[0minter_inputs\u001b[0m \u001b[0;34m=\u001b[0m \u001b[0mintermediate_model\u001b[0m\u001b[0;34m(\u001b[0m\u001b[0minputs\u001b[0m\u001b[0;34m)\u001b[0m\u001b[0;34m\u001b[0m\u001b[0;34m\u001b[0m\u001b[0m\n",
      "\u001b[1;32m    129 \u001b[0m            x = Conv2D(filters=self.chromosome['a_output_channels'],\n",
      "\u001b[1;32m    130 \u001b[0m                       \u001b[0mpadding\u001b[0m\u001b[0;34m=\u001b[0m\u001b[0;34m'same'\u001b[0m\u001b[0;34m,\u001b[0m\u001b[0;34m\u001b[0m\u001b[0;34m\u001b[0m\u001b[0m\n",
      "\u001b[1;32m    131 \u001b[0m                       \u001b[0mkernel_size\u001b[0m\u001b[0;34m=\u001b[0m\u001b[0mself\u001b[0m\u001b[0;34m.\u001b[0m\u001b[0mchromosome\u001b[0m\u001b[0;34m[\u001b[0m\u001b[0;34m'a_filter_size'\u001b[0m\u001b[0;34m]\u001b[0m\u001b[0;34m,\u001b[0m\u001b[0;34m\u001b[0m\u001b[0;34m\u001b[0m\u001b[0m\n",
      "\u001b[1;32m    132 \u001b[0m                       use_bias=self.chromosome['a_include_BN'])(inter_inputs)\n",
      "\u001b[1;32m    133 \u001b[0m            \u001b[0;31m# This is to ensure that we do not randomly chose anothere activation\u001b[0m\u001b[0;34m\u001b[0m\u001b[0;34m\u001b[0m\u001b[0;34m\u001b[0m\u001b[0m\n",
      "\u001b[1;32m    134 \u001b[0m            \u001b[0mself\u001b[0m\u001b[0;34m.\u001b[0m\u001b[0mchromosome\u001b[0m\u001b[0;34m[\u001b[0m\u001b[0;34m'activation_type'\u001b[0m\u001b[0;34m]\u001b[0m \u001b[0;34m=\u001b[0m \u001b[0mself\u001b[0m\u001b[0;34m.\u001b[0m\u001b[0mbest_organism\u001b[0m\u001b[0;34m.\u001b[0m\u001b[0mchromosome\u001b[0m\u001b[0;34m[\u001b[0m\u001b[0;34m'activation_type'\u001b[0m\u001b[0;34m]\u001b[0m\u001b[0;34m\u001b[0m\u001b[0;34m\u001b[0m\u001b[0m\n",
      "\u001b[1;32m    135 \u001b[0m        \u001b[0;32melse\u001b[0m\u001b[0;34m:\u001b[0m\u001b[0;34m\u001b[0m\u001b[0;34m\u001b[0m\u001b[0m\n",
      "\u001b[1;32m    136 \u001b[0m            \u001b[0;31m# For PHASE 0 only\u001b[0m\u001b[0;34m\u001b[0m\u001b[0;34m\u001b[0m\u001b[0;34m\u001b[0m\u001b[0m\n",
      "\u001b[1;32m    137 \u001b[0m            \u001b[0;31m# input layer\u001b[0m\u001b[0;34m\u001b[0m\u001b[0;34m\u001b[0m\u001b[0;34m\u001b[0m\u001b[0m\n",
      "\u001b[0;32m--> 138 \u001b[0;31m            x = Conv2D(filters=self.chromosome['a_output_channels'],\n",
      "\u001b[0m\u001b[1;32m    139 \u001b[0m                       \u001b[0mpadding\u001b[0m\u001b[0;34m=\u001b[0m\u001b[0;34m'same'\u001b[0m\u001b[0;34m,\u001b[0m\u001b[0;34m\u001b[0m\u001b[0;34m\u001b[0m\u001b[0m\n",
      "\u001b[1;32m    140 \u001b[0m                       \u001b[0mkernel_size\u001b[0m\u001b[0;34m=\u001b[0m\u001b[0mself\u001b[0m\u001b[0;34m.\u001b[0m\u001b[0mchromosome\u001b[0m\u001b[0;34m[\u001b[0m\u001b[0;34m'a_filter_size'\u001b[0m\u001b[0;34m]\u001b[0m\u001b[0;34m,\u001b[0m\u001b[0;34m\u001b[0m\u001b[0;34m\u001b[0m\u001b[0m\n",
      "\u001b[1;32m    141 \u001b[0m                       use_bias=self.chromosome['a_include_BN'])(inputs)\n",
      "\u001b[1;32m    142 \u001b[0m\u001b[0;34m\u001b[0m\u001b[0m\n",
      "\u001b[1;32m    143 \u001b[0m        \u001b[0;32mif\u001b[0m \u001b[0mself\u001b[0m\u001b[0;34m.\u001b[0m\u001b[0mchromosome\u001b[0m\u001b[0;34m[\u001b[0m\u001b[0;34m'a_include_BN'\u001b[0m\u001b[0;34m]\u001b[0m\u001b[0;34m:\u001b[0m\u001b[0;34m\u001b[0m\u001b[0;34m\u001b[0m\u001b[0m\n",
      "\u001b[1;32m    144 \u001b[0m            \u001b[0mx\u001b[0m \u001b[0;34m=\u001b[0m \u001b[0mBatchNormalization\u001b[0m\u001b[0;34m(\u001b[0m\u001b[0;34m)\u001b[0m\u001b[0;34m(\u001b[0m\u001b[0mx\u001b[0m\u001b[0;34m)\u001b[0m\u001b[0;34m\u001b[0m\u001b[0;34m\u001b[0m\u001b[0m\n",
      "\u001b[1;32m    145 \u001b[0m        \u001b[0mx\u001b[0m \u001b[0;34m=\u001b[0m \u001b[0mself\u001b[0m\u001b[0;34m.\u001b[0m\u001b[0mchromosome\u001b[0m\u001b[0;34m[\u001b[0m\u001b[0;34m'activation_type'\u001b[0m\u001b[0;34m]\u001b[0m\u001b[0;34m(\u001b[0m\u001b[0;34m)\u001b[0m\u001b[0;34m(\u001b[0m\u001b[0mx\u001b[0m\u001b[0;34m)\u001b[0m\u001b[0;34m\u001b[0m\u001b[0;34m\u001b[0m\u001b[0m\n",
      "\u001b[1;32m    146 \u001b[0m        \u001b[0;32mif\u001b[0m \u001b[0mself\u001b[0m\u001b[0;34m.\u001b[0m\u001b[0mchromosome\u001b[0m\u001b[0;34m[\u001b[0m\u001b[0;34m'include_pool'\u001b[0m\u001b[0;34m]\u001b[0m\u001b[0;34m:\u001b[0m\u001b[0;34m\u001b[0m\u001b[0;34m\u001b[0m\u001b[0m\n",
      "\u001b[1;32m    147 \u001b[0m            x = self.chromosome['pool_type'](strides=(1,1),\n",
      "\u001b[1;32m    148 \u001b[0m                                             padding='same')(x)\n",
      "\u001b[1;32m    149 \u001b[0m        \u001b[0;32mif\u001b[0m \u001b[0mself\u001b[0m\u001b[0;34m.\u001b[0m\u001b[0mphase\u001b[0m \u001b[0;34m!=\u001b[0m \u001b[0;36m0\u001b[0m \u001b[0;32mand\u001b[0m \u001b[0mself\u001b[0m\u001b[0;34m.\u001b[0m\u001b[0mchromosome\u001b[0m\u001b[0;34m[\u001b[0m\u001b[0;34m'b_include_layer'\u001b[0m\u001b[0;34m]\u001b[0m \u001b[0;34m==\u001b[0m \u001b[0;32mFalse\u001b[0m\u001b[0;34m:\u001b[0m\u001b[0;34m\u001b[0m\u001b[0;34m\u001b[0m\u001b[0m\n",
      "\u001b[1;32m    150 \u001b[0m            \u001b[0;31m# Except for PHASE0, there is a choice for\u001b[0m\u001b[0;34m\u001b[0m\u001b[0;34m\u001b[0m\u001b[0;34m\u001b[0m\u001b[0m\n",
      "\u001b[1;32m    151 \u001b[0m            \u001b[0;31m# the number of layers that the model wants\u001b[0m\u001b[0;34m\u001b[0m\u001b[0;34m\u001b[0m\u001b[0;34m\u001b[0m\u001b[0m\n",
      "\u001b[1;32m    152 \u001b[0m            \u001b[0;32mif\u001b[0m \u001b[0mself\u001b[0m\u001b[0;34m.\u001b[0m\u001b[0mchromosome\u001b[0m\u001b[0;34m[\u001b[0m\u001b[0;34m'include_skip'\u001b[0m\u001b[0;34m]\u001b[0m\u001b[0;34m:\u001b[0m\u001b[0;34m\u001b[0m\u001b[0;34m\u001b[0m\u001b[0m\n",
      "\u001b[1;32m    153 \u001b[0m                y = Conv2D(filters=self.chromosome['a_output_channels'],\n",
      "\u001b[1;32m    154 \u001b[0m                           \u001b[0mkernel_size\u001b[0m\u001b[0;34m=\u001b[0m\u001b[0;34m(\u001b[0m\u001b[0;36m1\u001b[0m\u001b[0;34m,\u001b[0m\u001b[0;36m1\u001b[0m\u001b[0;34m)\u001b[0m\u001b[0;34m,\u001b[0m\u001b[0;34m\u001b[0m\u001b[0;34m\u001b[0m\u001b[0m\n",
      "\u001b[1;32m    155 \u001b[0m                           padding='same')(inter_inputs)\n",
      "\u001b[1;32m    156 \u001b[0m                \u001b[0mx\u001b[0m \u001b[0;34m=\u001b[0m \u001b[0mAdd\u001b[0m\u001b[0;34m(\u001b[0m\u001b[0;34m)\u001b[0m\u001b[0;34m(\u001b[0m\u001b[0;34m[\u001b[0m\u001b[0my\u001b[0m\u001b[0;34m,\u001b[0m\u001b[0mx\u001b[0m\u001b[0;34m]\u001b[0m\u001b[0;34m)\u001b[0m\u001b[0;34m\u001b[0m\u001b[0;34m\u001b[0m\u001b[0m\n",
      "\u001b[1;32m    157 \u001b[0m            \u001b[0mx\u001b[0m \u001b[0;34m=\u001b[0m \u001b[0mGlobalAveragePooling2D\u001b[0m\u001b[0;34m(\u001b[0m\u001b[0;34m)\u001b[0m\u001b[0;34m(\u001b[0m\u001b[0mx\u001b[0m\u001b[0;34m)\u001b[0m\u001b[0;34m\u001b[0m\u001b[0;34m\u001b[0m\u001b[0m\n",
      "\u001b[1;32m    158 \u001b[0m            \u001b[0mx\u001b[0m \u001b[0;34m=\u001b[0m \u001b[0mDense\u001b[0m\u001b[0;34m(\u001b[0m\u001b[0mself\u001b[0m\u001b[0;34m.\u001b[0m\u001b[0mconfig\u001b[0m\u001b[0;34m.\u001b[0m\u001b[0moutput_size\u001b[0m\u001b[0;34m,\u001b[0m \u001b[0mactivation\u001b[0m\u001b[0;34m=\u001b[0m\u001b[0;34m'softmax'\u001b[0m\u001b[0;34m)\u001b[0m\u001b[0;34m(\u001b[0m\u001b[0mx\u001b[0m\u001b[0;34m)\u001b[0m\u001b[0;34m\u001b[0m\u001b[0;34m\u001b[0m\u001b[0m\n",
      "\u001b[1;32m    159 \u001b[0m        \u001b[0;32melse\u001b[0m\u001b[0;34m:\u001b[0m\u001b[0;34m\u001b[0m\u001b[0;34m\u001b[0m\u001b[0m\n",
      "\u001b[1;32m    160 \u001b[0m            \u001b[0;31m# PHASE0 or no skip\u001b[0m\u001b[0;34m\u001b[0m\u001b[0;34m\u001b[0m\u001b[0;34m\u001b[0m\u001b[0m\n",
      "\u001b[1;32m    161 \u001b[0m            \u001b[0;31m# in the tail\u001b[0m\u001b[0;34m\u001b[0m\u001b[0;34m\u001b[0m\u001b[0;34m\u001b[0m\u001b[0m\n",
      "\u001b[1;32m    162 \u001b[0m            x = Conv2D(filters=self.chromosome['b_output_channels'],\n",
      "\u001b[1;32m    163 \u001b[0m                       \u001b[0mpadding\u001b[0m\u001b[0;34m=\u001b[0m\u001b[0;34m'same'\u001b[0m\u001b[0;34m,\u001b[0m\u001b[0;34m\u001b[0m\u001b[0;34m\u001b[0m\u001b[0m\n",
      "\u001b[1;32m    164 \u001b[0m                       \u001b[0mkernel_size\u001b[0m\u001b[0;34m=\u001b[0m\u001b[0mself\u001b[0m\u001b[0;34m.\u001b[0m\u001b[0mchromosome\u001b[0m\u001b[0;34m[\u001b[0m\u001b[0;34m'b_filter_size'\u001b[0m\u001b[0;34m]\u001b[0m\u001b[0;34m,\u001b[0m\u001b[0;34m\u001b[0m\u001b[0;34m\u001b[0m\u001b[0m\n",
      "\u001b[1;32m    165 \u001b[0m                       use_bias=self.chromosome['b_include_BN'])(x)\n",
      "\u001b[1;32m    166 \u001b[0m            \u001b[0;32mif\u001b[0m \u001b[0mself\u001b[0m\u001b[0;34m.\u001b[0m\u001b[0mchromosome\u001b[0m\u001b[0;34m[\u001b[0m\u001b[0;34m'b_include_BN'\u001b[0m\u001b[0;34m]\u001b[0m\u001b[0;34m:\u001b[0m\u001b[0;34m\u001b[0m\u001b[0;34m\u001b[0m\u001b[0m\n",
      "\u001b[1;32m    167 \u001b[0m                \u001b[0mx\u001b[0m \u001b[0;34m=\u001b[0m \u001b[0mBatchNormalization\u001b[0m\u001b[0;34m(\u001b[0m\u001b[0;34m)\u001b[0m\u001b[0;34m(\u001b[0m\u001b[0mx\u001b[0m\u001b[0;34m)\u001b[0m\u001b[0;34m\u001b[0m\u001b[0;34m\u001b[0m\u001b[0m\n",
      "\u001b[1;32m    168 \u001b[0m            \u001b[0mx\u001b[0m \u001b[0;34m=\u001b[0m \u001b[0mself\u001b[0m\u001b[0;34m.\u001b[0m\u001b[0mchromosome\u001b[0m\u001b[0;34m[\u001b[0m\u001b[0;34m'activation_type'\u001b[0m\u001b[0;34m]\u001b[0m\u001b[0;34m(\u001b[0m\u001b[0;34m)\u001b[0m\u001b[0;34m(\u001b[0m\u001b[0mx\u001b[0m\u001b[0;34m)\u001b[0m\u001b[0;34m\u001b[0m\u001b[0;34m\u001b[0m\u001b[0m\n",
      "\u001b[1;32m    169 \u001b[0m            \u001b[0;32mif\u001b[0m \u001b[0mself\u001b[0m\u001b[0;34m.\u001b[0m\u001b[0mchromosome\u001b[0m\u001b[0;34m[\u001b[0m\u001b[0;34m'include_skip'\u001b[0m\u001b[0;34m]\u001b[0m\u001b[0;34m:\u001b[0m\u001b[0;34m\u001b[0m\u001b[0;34m\u001b[0m\u001b[0m\n",
      "\u001b[1;32m    170 \u001b[0m                y = Conv2D(filters=self.chromosome['b_output_channels'],\n",
      "\u001b[1;32m    171 \u001b[0m                           \u001b[0mpadding\u001b[0m\u001b[0;34m=\u001b[0m\u001b[0;34m'same'\u001b[0m\u001b[0;34m,\u001b[0m\u001b[0;34m\u001b[0m\u001b[0;34m\u001b[0m\u001b[0m\n",
      "\u001b[1;32m    172 \u001b[0m                           kernel_size=(1,1))(inputs)\n",
      "\u001b[1;32m    173 \u001b[0m                \u001b[0mx\u001b[0m \u001b[0;34m=\u001b[0m \u001b[0mAdd\u001b[0m\u001b[0;34m(\u001b[0m\u001b[0;34m)\u001b[0m\u001b[0;34m(\u001b[0m\u001b[0;34m[\u001b[0m\u001b[0my\u001b[0m\u001b[0;34m,\u001b[0m\u001b[0mx\u001b[0m\u001b[0;34m]\u001b[0m\u001b[0;34m)\u001b[0m\u001b[0;34m\u001b[0m\u001b[0;34m\u001b[0m\u001b[0m\n",
      "\u001b[1;32m    174 \u001b[0m            \u001b[0mx\u001b[0m \u001b[0;34m=\u001b[0m \u001b[0mGlobalAveragePooling2D\u001b[0m\u001b[0;34m(\u001b[0m\u001b[0;34m)\u001b[0m\u001b[0;34m(\u001b[0m\u001b[0mx\u001b[0m\u001b[0;34m)\u001b[0m\u001b[0;34m\u001b[0m\u001b[0;34m\u001b[0m\u001b[0m\n",
      "\u001b[1;32m    175 \u001b[0m            \u001b[0mx\u001b[0m \u001b[0;34m=\u001b[0m \u001b[0mDense\u001b[0m\u001b[0;34m(\u001b[0m\u001b[0mself\u001b[0m\u001b[0;34m.\u001b[0m\u001b[0mconfig\u001b[0m\u001b[0;34m.\u001b[0m\u001b[0moutput_size\u001b[0m\u001b[0;34m,\u001b[0m \u001b[0mactivation\u001b[0m\u001b[0;34m=\u001b[0m\u001b[0;34m'softmax'\u001b[0m\u001b[0;34m)\u001b[0m\u001b[0;34m(\u001b[0m\u001b[0mx\u001b[0m\u001b[0;34m)\u001b[0m\u001b[0;34m\u001b[0m\u001b[0;34m\u001b[0m\u001b[0m\n",
      "\u001b[1;32m    176 \u001b[0m        \u001b[0mself\u001b[0m\u001b[0;34m.\u001b[0m\u001b[0mmodel\u001b[0m \u001b[0;34m=\u001b[0m \u001b[0mModel\u001b[0m\u001b[0;34m(\u001b[0m\u001b[0minputs\u001b[0m\u001b[0;34m=\u001b[0m\u001b[0;34m[\u001b[0m\u001b[0minputs\u001b[0m\u001b[0;34m]\u001b[0m\u001b[0;34m,\u001b[0m \u001b[0moutputs\u001b[0m\u001b[0;34m=\u001b[0m\u001b[0;34m[\u001b[0m\u001b[0mx\u001b[0m\u001b[0;34m]\u001b[0m\u001b[0;34m)\u001b[0m\u001b[0;34m\u001b[0m\u001b[0;34m\u001b[0m\u001b[0m\n",
      "\u001b[1;32m    177 \u001b[0m        self.model.compile(optimizer='adam',\n",
      "\u001b[1;32m    178 \u001b[0m                           \u001b[0mloss\u001b[0m\u001b[0;34m=\u001b[0m\u001b[0;34m'categorical_crossentropy'\u001b[0m\u001b[0;34m,\u001b[0m\u001b[0;34m\u001b[0m\u001b[0;34m\u001b[0m\u001b[0m\n",
      "\u001b[1;32m    179 \u001b[0m                           metrics=self.get_metrics())\n",
      "\u001b[1;32m    180 \u001b[0m\u001b[0;34m\u001b[0m\u001b[0m\n",
      "\n"
     ]
    },
    {
     "name": "stdin",
     "output_type": "stream",
     "text": [
      "ipdb>  dir()\n"
     ]
    },
    {
     "name": "stdout",
     "output_type": "stream",
     "text": [
      "['inputs', 'self']\n"
     ]
    },
    {
     "name": "stdin",
     "output_type": "stream",
     "text": [
      "ipdb>  dir(self)\n"
     ]
    },
    {
     "name": "stdout",
     "output_type": "stream",
     "text": [
      "['__class__', '__delattr__', '__dict__', '__dir__', '__doc__', '__eq__', '__format__', '__ge__', '__getattribute__', '__gt__', '__hash__', '__init__', '__init_subclass__', '__le__', '__lt__', '__module__', '__ne__', '__new__', '__reduce__', '__reduce_ex__', '__repr__', '__setattr__', '__sizeof__', '__str__', '__subclasshook__', '__weakref__', '_chromosome', '_config', 'best_organism', 'build_model', 'chromosome', 'config', 'crossover', 'data', 'debug', 'fitnessFunction', 'fitness_metric_name', 'generation_number', 'get_metrics', 'get_wandb_credentials', 'mutation', 'name', 'organism_id', 'phase', 'show', 'test_data', 'train_data', 'val_data']\n"
     ]
    },
    {
     "name": "stdin",
     "output_type": "stream",
     "text": [
      "ipdb>  self.chromosome\n"
     ]
    },
    {
     "name": "stdout",
     "output_type": "stream",
     "text": [
      "*** box.exceptions.BoxKeyError: \"<class 'tensorflow.python.keras.layers.advanced_activations.ELU'>\"\n"
     ]
    },
    {
     "name": "stdin",
     "output_type": "stream",
     "text": [
      "ipdb>  self._chromosome\n"
     ]
    },
    {
     "name": "stdout",
     "output_type": "stream",
     "text": [
      "a_filter_size:\n",
      "\t(7, 7)\n",
      "a_include_BN:\n",
      "\tTrue\n",
      "a_output_channels:\n",
      "\t16\n",
      "activation_type:\n",
      "\t<class 'tensorflow.python.keras.layers.advanced_activations.ELU'>\n",
      "b_filter_size:\n",
      "\t(9, 9)\n",
      "b_include_BN:\n",
      "\tFalse\n",
      "b_output_channels:\n",
      "\t512\n",
      "include_pool:\n",
      "\tTrue\n",
      "pool_type:\n",
      "\t<class 'tensorflow.python.keras.layers.pooling.MaxPooling2D'>\n",
      "include_skip:\n",
      "\tFalse\n"
     ]
    },
    {
     "name": "stdin",
     "output_type": "stream",
     "text": [
      "ipdb>  self.organism_id\n"
     ]
    },
    {
     "name": "stdout",
     "output_type": "stream",
     "text": [
      "'1+0'\n"
     ]
    },
    {
     "name": "stdin",
     "output_type": "stream",
     "text": [
      "ipdb>  q\n"
     ]
    }
   ],
   "source": [
    "%debug"
   ]
  },
  {
   "cell_type": "code",
   "execution_count": 12,
   "metadata": {},
   "outputs": [
    {
     "data": {
      "text/plain": [
       "['Add',\n",
       " 'AveragePooling2D',\n",
       " 'BatchNormalization',\n",
       " 'Box',\n",
       " 'Bunch',\n",
       " 'CategoryEncoding',\n",
       " 'ChromosomeSampler',\n",
       " 'ClassLabelEncoder',\n",
       " 'Conv2D',\n",
       " 'DEBUG',\n",
       " 'Dense',\n",
       " 'Dict',\n",
       " 'ELU',\n",
       " 'Flatten',\n",
       " 'Generation',\n",
       " 'GlobalAveragePooling2D',\n",
       " 'In',\n",
       " 'Input',\n",
       " 'K',\n",
       " 'LOG_DIR',\n",
       " 'LeakyReLU',\n",
       " 'List',\n",
       " 'MaxPool2D',\n",
       " 'Model',\n",
       " 'NamedTuple',\n",
       " 'OmegaConf',\n",
       " 'Organism',\n",
       " 'Out',\n",
       " 'ReLU',\n",
       " 'StringLookup',\n",
       " 'Tuple',\n",
       " 'Union',\n",
       " 'VERBOSE',\n",
       " 'WandbCallback',\n",
       " '_',\n",
       " '__',\n",
       " '___',\n",
       " '__builtin__',\n",
       " '__builtins__',\n",
       " '__doc__',\n",
       " '__loader__',\n",
       " '__name__',\n",
       " '__package__',\n",
       " '__spec__',\n",
       " '_dh',\n",
       " '_i',\n",
       " '_i1',\n",
       " '_i10',\n",
       " '_i11',\n",
       " '_i12',\n",
       " '_i2',\n",
       " '_i3',\n",
       " '_i4',\n",
       " '_i5',\n",
       " '_i6',\n",
       " '_i7',\n",
       " '_i8',\n",
       " '_i9',\n",
       " '_ih',\n",
       " '_ii',\n",
       " '_iii',\n",
       " '_oh',\n",
       " 'class_encoder',\n",
       " 'config',\n",
       " 'copy',\n",
       " 'data',\n",
       " 'data_config',\n",
       " 'display',\n",
       " 'exit',\n",
       " 'exp_config',\n",
       " 'gc',\n",
       " 'generation_config',\n",
       " 'get_ipython',\n",
       " 'get_logger',\n",
       " 'json',\n",
       " 'jsonpickle',\n",
       " 'keras',\n",
       " 'load_and_preprocess_data',\n",
       " 'log_high_loss_examples',\n",
       " 'logger',\n",
       " 'main',\n",
       " 'nb_seed',\n",
       " 'np',\n",
       " 'organism_config',\n",
       " 'os',\n",
       " 'pd',\n",
       " 'plt',\n",
       " 'pp',\n",
       " 'pprint',\n",
       " 'quit',\n",
       " 'random',\n",
       " 'set_tf_config',\n",
       " 'stateful',\n",
       " 'tf',\n",
       " 'tfds',\n",
       " 'wandb',\n",
       " 'warnings']"
      ]
     },
     "execution_count": 12,
     "metadata": {},
     "output_type": "execute_result"
    }
   ],
   "source": [
    "dir()"
   ]
  },
  {
   "cell_type": "code",
   "execution_count": null,
   "metadata": {},
   "outputs": [],
   "source": []
  },
  {
   "cell_type": "code",
   "execution_count": 5,
   "metadata": {},
   "outputs": [
    {
     "name": "stdout",
     "output_type": "stream",
     "text": [
      "{'load': {'dataset_name': 'plant_village', 'split': ['train[0%:60%]', 'train[60%:70%]', 'train[70%:100%]'], 'data_dir': '/media/data/jacob/tensorflow_datasets'}, 'preprocess': {'batch_size': 16, 'target_size': [128, 128]}}\n"
     ]
    },
    {
     "data": {
      "text/plain": [
       "{'a_filter_size': (1, 1),\n",
       " 'a_include_BN': True,\n",
       " 'a_output_channels': 8,\n",
       " 'activation_type': 'ReLU',\n",
       " 'b_filter_size': (1, 1),\n",
       " 'b_include_BN': False,\n",
       " 'b_output_channels': 64,\n",
       " 'include_pool': True,\n",
       " 'pool_type': 'AveragePooling2D',\n",
       " 'include_skip': True}"
      ]
     },
     "execution_count": 5,
     "metadata": {},
     "output_type": "execute_result"
    }
   ],
   "source": [
    "phases = []\n",
    "sampler=ChromosomeSampler()\n",
    "phases.append(sampler(phase=0))\n",
    "phases.append(sampler(phase=1))\n",
    "\n",
    "child_chromosome = sampler(phase=0)#.generate_chromosome(phase=0)\n",
    "child = Organism(chromosome=child_chromosome,\n",
    "                 data=data,\n",
    "                 config=config['data'],\n",
    "                 phase=0,\n",
    "                 generation_number=0,\n",
    "                 organism_id=0,\n",
    "                 best_organism=None)\n",
    "\n",
    "(child._chromosome._state)"
   ]
  },
  {
   "cell_type": "code",
   "execution_count": 10,
   "metadata": {},
   "outputs": [
    {
     "name": "stderr",
     "output_type": "stream",
     "text": [
      "/media/data/conda/jacob/envs/pyleaves2.3/lib/python3.7/site-packages/ipykernel/ipkernel.py:287: DeprecationWarning: `should_run_async` will not call `transform_cell` automatically in the future. Please pass the result to `transformed_cell` argument and any exception that happen during thetransform in `preprocessing_exc_tuple` in IPython 7.17 and above.\n",
      "  and should_run_async(code)\n"
     ]
    },
    {
     "data": {
      "text/plain": [
       "{'a_filter_size': (1, 1),\n",
       " 'a_include_BN': True,\n",
       " 'a_output_channels': 8,\n",
       " 'activation_type': 'ReLU',\n",
       " 'b_filter_size': (1, 1),\n",
       " 'b_include_BN': False,\n",
       " 'b_output_channels': 64,\n",
       " 'include_pool': True,\n",
       " 'pool_type': 'AveragePooling2D',\n",
       " 'include_skip': True}"
      ]
     },
     "execution_count": 10,
     "metadata": {},
     "output_type": "execute_result"
    }
   ],
   "source": [
    "(child._chromosome.get_state())"
   ]
  },
  {
   "cell_type": "code",
   "execution_count": null,
   "metadata": {
    "executionInfo": {
     "elapsed": 37514,
     "status": "error",
     "timestamp": 1602853256806,
     "user": {
      "displayName": "Aritra Roy Gosthipaty",
      "photoUrl": "",
      "userId": "14289131178028582626"
     },
     "user_tz": -330
    },
    "id": "3BbVfUL3nZrh",
    "jupyter": {
     "source_hidden": true
    },
    "outputId": "db81b47f-a3be-4b2b-88e3-f0b1db702b2f"
   },
   "outputs": [],
   "source": [
    "# %%writefile main.py\n",
    "\n",
    "# def main()\n",
    "# print(config)\n",
    "# best_organism = None\n",
    "# for phase in range(config.generation.num_phases):\n",
    "#     print(\"PHASE {}\".format(phase))\n",
    "#     generation = Generation(data=data,\n",
    "#                             generation_config=config['generation'],\n",
    "#                             organism_config=config['organism'],\n",
    "#                             phase=phase,\n",
    "#                             previous_best_organism=best_organism,\n",
    "#                             verbose=VERBOSE,\n",
    "#                             DEBUG=DEBUG)\n",
    "    \n",
    "#     best_organism = generation.run_phase()"
   ]
  },
  {
   "cell_type": "code",
   "execution_count": 9,
   "metadata": {},
   "outputs": [
    {
     "data": {
      "text/plain": [
       "{'a_filter_size': (1, 1),\n",
       " 'a_include_BN': True,\n",
       " 'a_output_channels': 8,\n",
       " 'activation_type': 'ReLU',\n",
       " 'b_filter_size': (1, 1),\n",
       " 'b_include_BN': False,\n",
       " 'b_output_channels': 64,\n",
       " 'include_pool': True,\n",
       " 'pool_type': 'AveragePooling2D',\n",
       " 'include_skip': True}"
      ]
     },
     "execution_count": 9,
     "metadata": {},
     "output_type": "execute_result"
    }
   ],
   "source": [
    "(child_chromosome.get_chromosome(True))"
   ]
  },
  {
   "cell_type": "markdown",
   "metadata": {},
   "source": [
    "## TODO\n",
    "\n",
    "* Implement saving\n",
    "* Log per-class plots for TP, TN, FP, FN, Recall, Precision\n",
    "* Fix test data loading for get_hardest_k_samples\n",
    "\n",
    "* Create dummy test model\n",
    "* Consider passing run id down from each surviving organism to unify runs linking eachunique model\n",
    "* Feed a ResNet backbone in as the previous best model\n",
    "* Follow that by feeding an arbitrary loaded model\n",
    "\n",
    "\n",
    "### Experiment Idea (12/1/20)\n",
    "* Optimize each generation by maximizing validation recall, rather than validation accuracy\n",
    "\n",
    "### Experiment 2\n",
    "* Add initalizers HeNormal and HeUniform to chromosome\n",
    "[HeNormal] (https://www.tensorflow.org/api_docs/python/tf/keras/initializers/HeNormal)\n",
    "\n",
    "### Experiment 3\n",
    "- Label smoothing"
   ]
  },
  {
   "cell_type": "markdown",
   "metadata": {},
   "source": [
    "### Left off Running Notebook (7 AM 12/1/20):\n",
    "- Running full plant_village 3 phase, 3 generation, 5 organism-per-population search"
   ]
  },
  {
   "cell_type": "code",
   "execution_count": null,
   "metadata": {
    "jupyter": {
     "source_hidden": true
    }
   },
   "outputs": [],
   "source": [
    "### 1. Using tfds.features.ClassLabel\n",
    "\n",
    "# feature_labels = tfds.features.ClassLabel(names=vocab)\n",
    "# data = ['Potato___healthy',\n",
    "#         'Potato___Late_blight',\n",
    "#         'Raspberry___healthy',\n",
    "#         'Soybean___healthy',\n",
    "#         'Squash___Powdery_mildew',\n",
    "#         'Strawberry___healthy',\n",
    "#         'Strawberry___Leaf_scorch',\n",
    "#         'Tomato___Bacterial_spot',\n",
    "#         'Tomato___Early_blight',\n",
    "#         'Tomato___healthy']\n",
    "\n",
    "# data += data[::-1]\n",
    "# print([feature_labels.str2int(label) for label in data])\n",
    "# data = train_data\n",
    "# data_enc = data.map(lambda x,y: (x, feature_labels.int2str(y)))\n",
    "\n",
    "### 2. Using StringLookup and CategoryEncoding Layers\n",
    "\n",
    "# layer = StringLookup(vocabulary=vocab, num_oov_indices=0, mask_token=None)\n",
    "# i_layer = StringLookup(vocabulary=layer.get_vocabulary(), invert=True)\n",
    "# int_data = layer(data)\n",
    "\n",
    "# print(len(layer.get_vocabulary()))\n",
    "# print(len(class_encoder.class_list))\n",
    "# print(set(layer.get_vocabulary())==set(class_encoder.class_list))\n",
    "\n",
    "# i_layer = StringLookup(vocabulary=layer.get_vocabulary(), invert=True)\n",
    "# int_data = layer(data)\n",
    "\n",
    "# print(layer(data))\n",
    "# print(i_layer(int_data))"
   ]
  },
  {
   "cell_type": "code",
   "execution_count": null,
   "metadata": {
    "jupyter": {
     "source_hidden": true
    }
   },
   "outputs": [],
   "source": [
    "# # from tensorflow.keras.layers.experimental.preprocessing import StringLookup, CategoryEncoding\n",
    "# # data = tf.constant([\"a\", \"b\", \"c\", \"b\", \"c\", \"a\"])\n",
    "# # # Use StringLookup to build an index of the feature values\n",
    "# # indexer = StringLookup()\n",
    "# # indexer.adapt(data)\n",
    "# # # Use CategoryEncoding to encode the integer indices to a one-hot vector\n",
    "# # encoder = CategoryEncoding(output_mode=\"binary\")\n",
    "# # encoder.adapt(indexer(data))\n",
    "# # # Convert new test data (which includes unknown feature values)\n",
    "# # test_data = tf.constant([\"a\", \"b\", \"c\", \"d\", \"e\", \"\"])\n",
    "# # encoded_data = encoder(indexer(test_data))\n",
    "# # print(encoded_data)\n",
    "\n",
    "# vocab = [\"a\", \"b\", \"c\", \"d\"]\n",
    "# data = tf.constant([[\"a\", \"c\", \"d\"], [\"d\", \"z\", \"b\"]])\n",
    "# layer = StringLookup(vocabulary=vocab)\n",
    "# i_layer = StringLookup(vocabulary=layer.get_vocabulary(), invert=True)\n",
    "# int_data = layer(data)\n",
    "\n",
    "# print(layer(data))\n",
    "# print(i_layer(int_data))"
   ]
  },
  {
   "cell_type": "code",
   "execution_count": null,
   "metadata": {
    "id": "EZRopbXcoeJ6",
    "jupyter": {
     "source_hidden": true
    }
   },
   "outputs": [],
   "source": [
    "# VERBOSE = True\n",
    "# import pandas as pd\n",
    "# import json\n",
    "# from box import Box\n",
    "# from bunch import Bunch\n",
    "# # from pprint import pprint as pp\n",
    "# import random\n",
    "\n",
    "# ActivationLayers = Box(ReLU=ReLU, ELU=ELU, LeakyReLU=LeakyReLU)\n",
    "# PoolingLayers = Box(MaxPool2D=MaxPool2D, AveragePooling2D=AveragePooling2D)\n",
    "\n",
    "# class Chromosome(stateful.Stateful):#BaseChromosome):#(NamedTuple):\n",
    "    \n",
    "#     def __init__(self,\n",
    "#                  hparams: Dict=None,\n",
    "#                  name=''):\n",
    "#         super().__init__()\n",
    "#         self.set_state(hparams)\n",
    "\n",
    "#     def get_state(self):\n",
    "#         \"\"\"Returns the current state of this object.\n",
    "#         This method is called during `save`.\n",
    "#         \"\"\"\n",
    "#         return self._state\n",
    "        \n",
    "\n",
    "#     def set_state(self, state):\n",
    "#         \"\"\"Sets the current state of this object.\n",
    "#         This method is called during `reload`.\n",
    "#         # Arguments:\n",
    "#           state: Dict. The state to restore for this object.\n",
    "#         \"\"\"\n",
    "#         self._state = state\n",
    "        \n",
    "#     @property\n",
    "#     def deserialized_state(self):\n",
    "#         state = copy.deepcopy(self.get_state())\n",
    "#         state['activation_type'] = ActivationLayers[state['activation_type']]\n",
    "#         state['pool_type'] = PoolingLayers[state['pool_type']]\n",
    "\n",
    "# #         state['activation_type'] = [ActivationLayers[act_layer] for act_layer in state['activation_type']]\n",
    "# #         state['pool_type'] = [PoolingLayers[pool_layer] for pool_layer in state['pool_type']]\n",
    "#         return state\n",
    "\n",
    "\n",
    "# import copy\n",
    "\n",
    "# class ChromosomeOptions(stateful.Stateful): #BaseOptions): #object):\n",
    "#     \"\"\"\n",
    "#     Container class for encapsulating variable-length lists of potential gene variants (individual hyperparameters).\n",
    "#     To be used as a reservoir from which to sample a complete chromosome made up of 1 variant per gene.\n",
    "    \n",
    "#     This should be logged for describing the scope of a given AutoML experiment's hyperparameter search space\n",
    "\n",
    "#     Gene: The unique identifier of a particular hyperparameter that may reference any of a set of possible variant values.\n",
    "#     Variant: The particular value of a gene. Used to refer to the 1 value for a single chromosome instance, or 1 value from a set of gene options.\n",
    "\n",
    "#     Args:\n",
    "#         NamedTuple ([type]): [description]\n",
    "#     \"\"\"\n",
    "\n",
    "#     def __init__(self,\n",
    "#                  hparam_lists,\n",
    "#                  phase=0,\n",
    "#                  seed=None):\n",
    "        \n",
    "# #         self.__chromosomes = {k:v for k,v in locals().items() if k not in ['self', 'kwargs'] and not k.startswith('__')}\n",
    "# #         print(self.__chromosomes)\n",
    "        \n",
    "#         self.set_state(hparam_lists, phase=phase, seed=seed)\n",
    "\n",
    "#     def get_state(self):\n",
    "#         \"\"\"Returns the current state of this object.\n",
    "#         This method is called during `save`.\n",
    "#         \"\"\"\n",
    "#         return self.state\n",
    "    \n",
    "#     def get_config(self):\n",
    "#         config = copy.deepcopy(self.state)\n",
    "#         return config\n",
    "        \n",
    "\n",
    "#     def set_state(self, state, phase=0, seed=None):\n",
    "#         \"\"\"Sets the current state of this object.\n",
    "#         This method is called during `reload`.\n",
    "#         # Arguments:\n",
    "#           state: Dict. The state to restore for this object.\n",
    "#         \"\"\"\n",
    "#         self.set_seed(seed)\n",
    "#         self.phase = phase\n",
    "#         self.state = state\n",
    "\n",
    "#     def set_seed(self, seed=None):\n",
    "#         self.seed = seed\n",
    "#         self.rng = np.random.default_rng(seed)\n",
    "        \n",
    "#     def sample_k_variants_from_gene(self, gene: str, k: int=1):\n",
    "#         '''\n",
    "#         Randomly sample the list of variants corresponding to the key indicated by the first arg, 'gene'. Produce a random sequence of length k, with the default==1.\n",
    "        \n",
    "#         Note: If k==1: this automatically returns a single unit from the variants list, which may or may not be a scalar object (e.g. int, str, float)\n",
    "#         If k > 1: then the sampled variants will always be returned in a list.\n",
    "        \n",
    "#         '''\n",
    "#         all_variants = self.chromosomes[gene]\n",
    "#         variant_idx = self.rng.integers(low=0, high=len(all_variants), size=k)\n",
    "#         sampled_variants = [all_variants[idx] for idx in variant_idx.tolist()]\n",
    "#         if k==1:\n",
    "#             sampled_variants = sampled_variants[0]\n",
    "#         return sampled_variants\n",
    "    \n",
    "#     def generate_chromosome(self, phase: int=None, seed=None):\n",
    "#         '''\n",
    "#         Primary function for utilizing a ChromosomeOptions object during experimentation.\n",
    "#         Running this function will randomly generate a new Chromosome instance for which each genetic variant is randomly sampled from this object's contained data,\n",
    "#         in the form of mappings between gene names as keys, and lists of variants as values.\n",
    "#         '''\n",
    "#         return Chromosome(hparams={gene:self.sample_k_variants_from_gene(gene) for gene in self.chromosomes.keys()})\n",
    "    \n",
    "#     def generate_k_chromosomes(self, k: int=1, seed=None):\n",
    "#         return [self.generate_chromosome(seed=seed) for _ in range(k)]\n",
    "        \n",
    "#     @property\n",
    "#     def chromosomes(self):\n",
    "#         return self.state\n",
    "\n",
    "    \n",
    "#     @property\n",
    "#     def deserialized_state(self):\n",
    "#         state = copy.deepcopy(self.state)\n",
    "#         state['activation_type'] = [ActivationLayers[act_layer] for act_layer in state['activation_type']]\n",
    "#         state['pool_type'] = [PoolingLayers[pool_layer] for pool_layer in state['pool_type']]\n",
    "#         return state\n",
    "    \n",
    "\n",
    "# class ChromosomeSampler:\n",
    "    \n",
    "#     def __call__(self, phase: int):\n",
    "        \n",
    "#         if phase==0:\n",
    "#             options = ChromosomeOptions({\n",
    "# #                                       'b_include_layer':[True],\n",
    "#                                       'a_filter_size':[(1,1), (3,3), (5,5), (7,7), (9,9)],\n",
    "#                                       'a_include_BN':[True, False],\n",
    "#                                       'a_output_channels':[8, 16, 32, 64, 128, 256, 512],\n",
    "#                                       'activation_type':['ReLU', 'ELU', 'LeakyReLU'],\n",
    "#                                       'b_filter_size':[(1,1), (3,3), (5,5), (7,7), (9,9)],\n",
    "#                                       'b_include_BN':[True, False],\n",
    "#                                       'b_output_channels':[8, 16, 32, 64, 128, 256, 512],\n",
    "#                                       'include_pool':[True, False],\n",
    "#                                       'pool_type':['MaxPool2D', 'AveragePooling2D'],\n",
    "#                                       'include_skip':[True, False]\n",
    "#                                       },\n",
    "#                                       phase=phase)\n",
    "\n",
    "#         else:\n",
    "#             options = ChromosomeOptions({\n",
    "#                                       'b_include_layer':[True, False],\n",
    "#                                       'a_filter_size':[(1,1), (3,3), (5,5), (7,7), (9,9)],\n",
    "#                                       'a_include_BN':[True, False],\n",
    "#                                       'a_output_channels':[8, 16, 32, 64, 128, 256, 512],\n",
    "#                                       'activation_type':['ReLU', 'ELU', 'LeakyReLU'],\n",
    "#                                       'b_filter_size':[(1,1), (3,3), (5,5), (7,7), (9,9)],\n",
    "#                                       'b_include_BN':[True, False],\n",
    "#                                       'b_output_channels':[8, 16, 32, 64, 128, 256, 512],\n",
    "#                                       'include_pool':[True, False],\n",
    "#                                       'pool_type':['MaxPool2D', 'AveragePooling2D'],\n",
    "#                                       'include_skip':[True, False]\n",
    "#                                       },\n",
    "#                                       phase=phase)\n",
    "#         return options.generate_chromosome(phase=phase)"
   ]
  },
  {
   "cell_type": "code",
   "execution_count": null,
   "metadata": {
    "jupyter": {
     "source_hidden": true
    }
   },
   "outputs": [],
   "source": [
    "# import gc\n",
    "\n",
    "\n",
    "# class Organism:\n",
    "#     def __init__(self,\n",
    "#                  data: Dict[str,tf.data.Dataset],\n",
    "#                  config=None,\n",
    "#                  chromosome=None,\n",
    "#                  phase=0,\n",
    "#                  generation_number=0,\n",
    "#                  organism_id=0,\n",
    "#                  best_organism=None):\n",
    "#         '''\n",
    "        \n",
    "#         Organism is an actor with a State that can take Action in the environment\n",
    "        \n",
    "#         config is a . accessible dict object containing model params that will stay constant during evolution\n",
    "#         chromosome is a dictionary of genes\n",
    "#         phase is the phase that the individual belongs to\n",
    "#         best_organism is the best organism of the previous phase\n",
    "        \n",
    "#         TODO:\n",
    "        \n",
    "#         1. implement to_json and from_json methods for copies\n",
    "#         2. Separate out step where organism is associated with a dataset\n",
    "#         '''\n",
    "#         self.data = data\n",
    "#         self.train_data = data['train']\n",
    "#         self.val_data = data['val']\n",
    "#         self.test_data = data['test']\n",
    "#         self.config = config\n",
    "#         self.chromosome = chromosome\n",
    "#         self.phase = phase\n",
    "#         self.generation_number = generation_number\n",
    "#         self.organism_id = organism_id\n",
    "#         self.best_organism=best_organism\n",
    "\n",
    "#         if phase > 0:\n",
    "#             if best_organism is None:\n",
    "#                 print(f'phase {phase} gen {generation} organism {organism_id}.\\nNo previous best model, creating from scratch.')\n",
    "#             else:\n",
    "#                 self.last_model = best_organism.model\n",
    "            \n",
    "#         self.debug = DEBUG\n",
    "    \n",
    "#     @property\n",
    "#     def name(self):\n",
    "#         return f'phase_{self.phase}-gen_{self.generation_number}-organism_{self.organism_id}'\n",
    "    \n",
    "#     @property\n",
    "#     def config(self):\n",
    "#         return self._config\n",
    "    \n",
    "#     @config.setter\n",
    "#     def config(self, config=None):\n",
    "#         config = config or OmegaConf.create({})\n",
    "#         print(config)\n",
    "#         config.input_shape = config.input_shape or (224,224,3)\n",
    "#         config.output_size = config.output_size or 38\n",
    "#         config.epochs_per_organism = config.epochs_per_organism or 5\n",
    "#         self._config = config\n",
    "        \n",
    "#     def get_metrics(self):\n",
    "#         return [tf.keras.metrics.CategoricalAccuracy(name='accuracy'),\n",
    "#                 tf.keras.metrics.TruePositives(name='tp'),\n",
    "#                 tf.keras.metrics.FalsePositives(name='fp'),\n",
    "#                 tf.keras.metrics.TrueNegatives(name='tn'),\n",
    "#                 tf.keras.metrics.FalseNegatives(name='fn'),\n",
    "#                 tf.keras.metrics.Precision(name='precision'),\n",
    "#                 tf.keras.metrics.Recall(name='recall'),\n",
    "#                 tf.keras.metrics.AUC(name='auc')]\n",
    "    \n",
    "#     @property\n",
    "#     def fitness_metric_name(self):\n",
    "#         return 'accuracy'\n",
    "   \n",
    "#     @property\n",
    "#     def chromosome(self):\n",
    "#         return self._chromosome.deserialized_state\n",
    "    \n",
    "#     @chromosome.setter\n",
    "#     def chromosome(self, chromosome):\n",
    "#         self._chromosome = chromosome\n",
    "        \n",
    "    \n",
    "#     def build_model(self):\n",
    "#         '''\n",
    "#         This is the function to build the keras model\n",
    "#         '''\n",
    "#         K.clear_session()\n",
    "#         gc.collect()\n",
    "#         inputs = Input(shape=self.config.input_shape)\n",
    "#         if self.phase != 0:\n",
    "#             # Slice the prev best model # Use the model as a layer # Attach new layer to the sliced model\n",
    "#             intermediate_model = Model(inputs=self.last_model.input,\n",
    "#                                        outputs=self.last_model.layers[-3].output)\n",
    "#             for layer in intermediate_model.layers:\n",
    "#                 # To make the iteration efficient\n",
    "#                 layer.trainable = False\n",
    "#             inter_inputs = intermediate_model(inputs)\n",
    "#             x = Conv2D(filters=self.chromosome['a_output_channels'],\n",
    "#                        padding='same',\n",
    "#                        kernel_size=self.chromosome['a_filter_size'],\n",
    "#                        use_bias=self.chromosome['a_include_BN'])(inter_inputs)\n",
    "#             # This is to ensure that we do not randomly chose anothere activation\n",
    "#             self.chromosome['activation_type'] = self.best_organism.chromosome['activation_type']\n",
    "#         else:\n",
    "#             # For PHASE 0 only\n",
    "#             # input layer\n",
    "#             x = Conv2D(filters=self.chromosome['a_output_channels'],\n",
    "#                        padding='same',\n",
    "#                        kernel_size=self.chromosome['a_filter_size'],\n",
    "#                        use_bias=self.chromosome['a_include_BN'])(inputs)\n",
    "            \n",
    "#         if self.chromosome['a_include_BN']:\n",
    "#             x = BatchNormalization()(x)\n",
    "#         x = self.chromosome['activation_type']()(x)\n",
    "#         if self.chromosome['include_pool']:\n",
    "#             x = self.chromosome['pool_type'](strides=(1,1),\n",
    "#                                              padding='same')(x)\n",
    "#         if self.phase != 0 and self.chromosome['b_include_layer'] == False:\n",
    "#             # Except for PHASE0, there is a choice for\n",
    "#             # the number of layers that the model wants\n",
    "#             if self.chromosome['include_skip']:\n",
    "#                 y = Conv2D(filters=self.chromosome['a_output_channels'],\n",
    "#                            kernel_size=(1,1),\n",
    "#                            padding='same')(inter_inputs)\n",
    "#                 x = Add()([y,x])\n",
    "#             x = GlobalAveragePooling2D()(x)\n",
    "#             x = Dense(self.config.output_size, activation='softmax')(x)\n",
    "#         else:\n",
    "#             # PHASE0 or no skip\n",
    "#             # in the tail\n",
    "#             x = Conv2D(filters=self.chromosome['b_output_channels'],\n",
    "#                        padding='same',\n",
    "#                        kernel_size=self.chromosome['b_filter_size'],\n",
    "#                        use_bias=self.chromosome['b_include_BN'])(x)\n",
    "#             if self.chromosome['b_include_BN']:\n",
    "#                 x = BatchNormalization()(x)\n",
    "#             x = self.chromosome['activation_type']()(x)\n",
    "#             if self.chromosome['include_skip']:\n",
    "#                 y = Conv2D(filters=self.chromosome['b_output_channels'],\n",
    "#                            padding='same',\n",
    "#                            kernel_size=(1,1))(inputs)\n",
    "#                 x = Add()([y,x])\n",
    "#             x = GlobalAveragePooling2D()(x)\n",
    "#             x = Dense(self.config.output_size, activation='softmax')(x)\n",
    "#         self.model = Model(inputs=[inputs], outputs=[x])\n",
    "#         self.model.compile(optimizer='adam',\n",
    "#                            loss='categorical_crossentropy',\n",
    "#                            metrics=self.get_metrics())\n",
    "        \n",
    "#     def fitnessFunction(self,\n",
    "#                         train_data,\n",
    "#                         val_data,\n",
    "#                         generation_number):\n",
    "#         '''\n",
    "#         This function is used to calculate the\n",
    "#         fitness of an individual.\n",
    "#         '''\n",
    "#         print('FFITNESS FUNCTION FFS')\n",
    "#         print('vars():', vars())\n",
    "#         self.run = wandb.init(**self.get_wandb_credentials(phase=self.phase,\n",
    "#                                                 generation_number=generation_number),\n",
    "#                    config=self.config)\n",
    "        \n",
    "#         self.model.fit(train_data,\n",
    "#                        steps_per_epoch=self.config.steps_per_epoch,\n",
    "#                        epochs=self.config.epochs_per_organism,\n",
    "#                        callbacks=[WandbCallback()],\n",
    "#                        verbose=1)\n",
    "#         self.results = self.model.evaluate(val_data,\n",
    "#                                            steps=self.config.validation_steps,\n",
    "#                                            return_dict=True,\n",
    "#                                            verbose=1)\n",
    "#         self.fitness = self.results[self.fitness_metric_name]\n",
    "#         print(self.name)\n",
    "#         print('fitness:', self.fitness)\n",
    "#         print('results:\\n', len(self.results))\n",
    "#         print(self.results)\n",
    "        \n",
    "        \n",
    "# #     @results.setter\n",
    "# #     def results(self, metrics_values):\n",
    "# #         self._results = {name:values for name, value in zip(self.model.metrics_names, metrics_values)}\n",
    "        \n",
    "# #     @property\n",
    "# #     def results(self):\n",
    "# #         return self._results\n",
    "        \n",
    "#     def crossover(self,\n",
    "#                   partner,\n",
    "#                   generation_number):\n",
    "#         '''\n",
    "#         This function helps in making children from two\n",
    "#         parent individuals.\n",
    "#         '''\n",
    "#         child_chromosome = {}\n",
    "#         endpoint = np.random.randint(low=0, high=len(self.chromosome))\n",
    "#         for idx, key in enumerate(self.chromosome):\n",
    "#             if idx <= endpoint:\n",
    "#                 child_chromosome[key] = self.chromosome[key]\n",
    "#             else:\n",
    "#                 child_chromosome[key] = partner.chromosome[key]\n",
    "#         child = Organism(chromosome=child_chromosome,\n",
    "#                          data=self.data,\n",
    "#                          config=self.config,\n",
    "#                          phase=self.phase,\n",
    "#                          generation_number=generation_number,\n",
    "#                          organism_id=f'{self.organism_id}+{partner.organism_id}',\n",
    "#                          best_organism=self.best_organism)\n",
    "        \n",
    "#         child.build_model()\n",
    "#         child.fitnessFunction(self.train_data,\n",
    "#                               self.val_data,\n",
    "#                               generation_number=generation_number)\n",
    "#         return child\n",
    "    \n",
    "#     def mutation(self, generation_number):\n",
    "#         '''\n",
    "#         One of the gene is to be mutated.\n",
    "#         '''\n",
    "#         index = np.random.randint(0, len(self.chromosome))\n",
    "#         key = list(self.chromosome.keys())[index]\n",
    "#         if  self.phase != 0:\n",
    "#             self.chromosome[key] = options[key][np.random.randint(len(options[key]))]\n",
    "#         else:\n",
    "#             self.chromosome[key] = options_phase0[key][np.random.randint(len(options_phase0[key]))]\n",
    "#         self.build_model()\n",
    "#         self.fitnessFunction(self.train_data,\n",
    "#                              self.val_data,\n",
    "#                              generation_number=generation_number)\n",
    "    \n",
    "#     def show(self):\n",
    "#         '''\n",
    "#         Util function to show the individual's properties.\n",
    "#         '''\n",
    "#         pp.pprint(self.config)\n",
    "#         pp.pprint(self.chromosome)\n",
    "        \n",
    "        \n",
    "#     def get_wandb_credentials(self, phase: int=None, generation_number: int=None):\n",
    "#         phase = phase or self.phase\n",
    "#         generation_number = generation_number or self.generation_number\n",
    "#         if self.debug:\n",
    "#             return get_wandb_credentials(phase=phase,\n",
    "#                                           generation_number=generation_number,\n",
    "#                                           entity=\"jrose\",\n",
    "#                                           project=f\"vlga-plant_village-DEBUG\")           \n",
    "#         return get_wandb_credentials(phase=phase,\n",
    "#                                       generation_number=generation_number,\n",
    "#                                       entity=\"jrose\",\n",
    "#                                       project=f\"vlga-plant_village\")\n",
    "\n",
    "        \n",
    "    \n",
    "# def get_wandb_credentials(phase: int,\n",
    "#                           generation_number: int,\n",
    "#                           entity=\"jrose\",\n",
    "#                           project=f\"vlga-plant_village\"):\n",
    "    \n",
    "#     return dict(entity=entity,\n",
    "#                 project=project,\n",
    "#                 group='KAGp{}'.format(phase),\n",
    "#                 job_type='g{}'.format(generation_number))"
   ]
  },
  {
   "cell_type": "markdown",
   "metadata": {},
   "source": [
    "## Schema for defining, loading, using, and logging configuration for hparam search\n",
    "\n",
    "\n",
    "### 1. Begin Hooks\n",
    "\n",
    "    a. at_search_begin\n",
    "        Store hparam search space definitions in a file called `search_space.json`\n",
    "    b. at_trial_begin\n",
    "\n",
    "    c. at_train_begin\n",
    "\n",
    "    d. at_epoch_begin\n",
    "\n",
    "    e. at_batch_begin\n",
    "\n",
    "### 2. End Hooks\n",
    "\n",
    "    a. at_batch_end\n",
    "    \n",
    "    b. at_epoch_end\n",
    "\n",
    "    c. at_train_end\n",
    "\n",
    "    d. at_trial_end\n",
    "\n",
    "    e. at_search_end\n",
    "\n",
    "\n",
    "7. \n",
    "\n",
    "## 1. INTERESTING REFACTOR IDEA:\n",
    "    TODO: Refactor chromosome structure to standardize the configuration options for repeated model structures\n",
    "    ### (3 AM 11/27/20)\n",
    "\n",
    "    e.g. Create a separate ConvOptions(NamedTuple) class to contain all 3 options:\n",
    "        filter_size\n",
    "    include_BN\n",
    "    output_channels\n",
    "\n",
    "    Then in each \"ChromosomeOptions\" (consider making each of those a chromosome, and upgrading what's now a chromosome to a full Genome)\n",
    "    store a separate ConvOptions for layer a and layer b, separately.\n",
    "\n",
    "\n",
    "## 2. TODO: \n",
    "    Consider transferring mutate() method from Organism to Chromosome, while potentially keeping crossover() method as part of organism's namespace. Purpose is to encapsulate functionality as close as possible with the data/abstractions it will operate on\n",
    "\n",
    "\n",
    "## 3. To Consider:\n",
    "    How can I quantify the information coverage and computational complexity of a given set of chromosome options? \n",
    "\n",
    "        a. Start with the raw # of permutations of all chromosome options\n",
    "        b. Adjust by the expected coverage for each variant. E.g. How much of the hyperparameter space are we covering in our naive uniform grid search?"
   ]
  },
  {
   "cell_type": "code",
   "execution_count": null,
   "metadata": {
    "executionInfo": {
     "elapsed": 1153,
     "status": "ok",
     "timestamp": 1602853528916,
     "user": {
      "displayName": "Aritra Roy Gosthipaty",
      "photoUrl": "",
      "userId": "14289131178028582626"
     },
     "user_tz": -330
    },
    "id": "cfa1Y5TNVYcY",
    "jupyter": {
     "source_hidden": true
    }
   },
   "outputs": [],
   "source": [
    "# def softmax(x):\n",
    "#     e_x = np.exp(x - np.max(x))\n",
    "#     return e_x / e_x.sum()\n",
    "\n",
    "\n",
    "\n",
    "# class Generation:\n",
    "#     def __init__(self,\n",
    "#                  data,\n",
    "#                  generation_config,\n",
    "#                  organism_config,\n",
    "#                  phase,\n",
    "#                  previous_best_organism,\n",
    "#                  verbose: bool=False):\n",
    "#         self.data = data\n",
    "#         self.config = generation_config\n",
    "#         self.organism_config = organism_config\n",
    "#         self.population = []\n",
    "#         self.generation_number = 0\n",
    "#         self.phase = phase\n",
    "#         # creating the first population: GENERATION_0\n",
    "#         # can be thought of as the setup function\n",
    "#         self.previous_best_organism = previous_best_organism or None\n",
    "#         self.best = {}\n",
    "#         self._initialized = False\n",
    "#         self.initialize_population(verbose=verbose)\n",
    "#         self.verbose = verbose\n",
    "        \n",
    "#     @property\n",
    "#     def config(self):\n",
    "#         return self._config\n",
    "    \n",
    "#     @config.setter\n",
    "#     def config(self, config=None):\n",
    "#         config = config or OmegaConf.create({})\n",
    "#         config.population_size = config.population_size or 5\n",
    "#         config.num_generations_per_phase = config.num_generations_per_phase or 3\n",
    "#         config.fitSurvivalRate = config.fitSurvivalRate or 0.5\n",
    "#         config.unfitSurvivalProb = config.unfitSurvivalProb or 0.2\n",
    "#         config.mutationRate = config.mutationRate or 0.1\n",
    "#         config.num_phases = config.num_phases or 5\n",
    "        \n",
    "#         self._config = config\n",
    "#         self.__dict__.update(config)\n",
    "        \n",
    "        \n",
    "#     def initialize_population(self, verbose=True):\n",
    "#         '''\n",
    "#         1. Create self.population_size individual organisms from scratch by randomly sampling an initial set of hyperparameters (a chromosome)\n",
    "#         2. As each is instantiated, build its model\n",
    "#         3. Assess their fitness one-by-one\n",
    "#         4. Sort models by relative fitness so we have a (potentially) new Best Organism (best model)\n",
    "#         4. Increment generation number to 1\n",
    "#         '''\n",
    "\n",
    "#         for idx in range(self.population_size):\n",
    "#             if verbose:\n",
    "#                 print('<'*10,' '*5,'>'*10)\n",
    "#                 print(f'Creating, training then testing organism {idx} out of a maximum {self.population_size} from generation {self.generation_number} and phase {self.phase}')\n",
    "#             org = Organism(chromosome=sampler(self.phase), #.get_state(),\n",
    "#                            data=self.data,\n",
    "#                            config=self.organism_config,\n",
    "#                            phase=self.phase,\n",
    "#                            generation_number=self.generation_number,\n",
    "#                            organism_id=idx,\n",
    "#                            best_organism=self.previous_best_organism)\n",
    "#             org.build_model()\n",
    "#             org.fitnessFunction(org.data['train'],\n",
    "#                                 org.data['test'],\n",
    "#                                 generation_number=self.generation_number)\n",
    "#             self.population.append(org)\n",
    "\n",
    "#         self._initialized = True\n",
    "#         self.sortModel(verbose=verbose)\n",
    "#         self.generation_number += 1\n",
    "#         self.evaluate(run=self.population[0].run)\n",
    "\n",
    "#     def sortModel(self, verbose: bool=True):\n",
    "#         '''\n",
    "#         sort the models according to the \n",
    "#         fitness in descending order.\n",
    "#         '''\n",
    "#         previous_best = self.best_fitness\n",
    "#         fitness = [ind.fitness for ind in self.population]\n",
    "#         sort_index = np.argsort(fitness)[::-1]\n",
    "#         self.population = [self.population[index] for index in sort_index]\n",
    "\n",
    "#         if self.best_organism_so_far.fitness > previous_best:\n",
    "#             self.best['organism'] = self.best_organism_so_far\n",
    "#             self.best['model'] = self.best_organism_so_far.model\n",
    "#             self.best['fitness'] = self.best_organism_so_far.fitness\n",
    "            \n",
    "#             if verbose:\n",
    "#                 print(f'''NEW BEST MODEL:\n",
    "#                 Fitness = {self.best[\"fitness\"]:.3f}\n",
    "#                 Previous Fitness = {previous_best:.3f}\n",
    "#                 Name = {self.best['organism'].name}\n",
    "#                 chromosome = {self.best['organism'].chromosome}''')\n",
    "        \n",
    "#     @property\n",
    "#     def best_organism_so_far(self):\n",
    "#         if self._initialized:\n",
    "#             return self.population[0]\n",
    "#         else:\n",
    "#             return self.previous_best_organism\n",
    "\n",
    "#     @property\n",
    "#     def best_fitness(self):\n",
    "#         if self._initialized:\n",
    "#             return self.population[0].fitness\n",
    "#         elif self.previous_best_organism is not None:\n",
    "#             return self.previous_best_organism.fitness\n",
    "#         else:\n",
    "#             return 0.0\n",
    "        \n",
    "        \n",
    "#     def generate(self):\n",
    "#         '''\n",
    "#         Generate a new generation in the same phase\n",
    "#         '''\n",
    "#         number_of_fit = int(self.population_size * self.fitSurvivalRate)\n",
    "#         new_pop = self.population[:number_of_fit]\n",
    "#         for individual in self.population[number_of_fit:]:\n",
    "#             if np.random.rand() <= self.unfitSurvivalProb:\n",
    "#                 new_pop.append(individual)\n",
    "#         for index, individual in enumerate(new_pop):\n",
    "#             if np.random.rand() <= self.mutationRate:\n",
    "#                 new_pop[index].mutation(generation_number=self.generation_number)\n",
    "#         fitness = [ind.fitness for ind in new_pop]\n",
    "#         children=[]\n",
    "#         for idx in range(self.population_size-len(new_pop)):\n",
    "#             parents = np.random.choice(new_pop, replace=False, size=(2,), p=softmax(fitness))\n",
    "#             A=parents[0]\n",
    "#             B=parents[1]\n",
    "#             child=A.crossover(B, generation_number=self.generation_number)\n",
    "#             children.append(child)\n",
    "#         self.population = new_pop+children\n",
    "#         self.sortModel()\n",
    "#         self.generation_number+=1\n",
    "\n",
    "#     def evaluate(self, run=None, last=False):\n",
    "#         '''\n",
    "#         Evaluate the generation\n",
    "#         '''\n",
    "#         print('EVALUATE')\n",
    "#         fitness = [ind.fitness for ind in self.population]\n",
    "\n",
    "#         BestOrganism = self.population[0]\n",
    "#         if run is None:\n",
    "#             run = BestOrganism.run\n",
    "#         run.log({'population_size':len(fitness)}, commit=False)\n",
    "#         run.log({'Best fitness': fitness[0]}, commit=False)\n",
    "#         run.log({'Average fitness': sum(fitness)/len(fitness)})\n",
    "        \n",
    "#         self.population[0].show()\n",
    "#         print('BEST ORGANISM', BestOrganism.name)\n",
    "#         k=16\n",
    "#         if last:\n",
    "#             k=32\n",
    "#         model_path = f'best-model-phase_{self.phase}.png'\n",
    "#         tf.keras.utils.plot_model(BestOrganism.model, to_file=model_path)\n",
    "#         run.log({\"best_model\": [wandb.Image(model_path, caption=f\"Best Model phase_{self.phase}\")]})\n",
    "#         log_high_loss_examples(BestOrganism.test_data,\n",
    "#                                BestOrganism.model, \n",
    "#                                k=k,\n",
    "#                                run=run)\n",
    "            \n",
    "#         return BestOrganism\n",
    "\n",
    "#     def run_generation(self):\n",
    "#         print('RUN GENERATION')\n",
    "#         self.generate()\n",
    "#         last = False\n",
    "#         if self.generation_number == self.num_generations_per_phase:\n",
    "#             last = True\n",
    "#         best_organism = self.evaluate(last=last)\n",
    "#         return best_organism\n",
    "        \n",
    "#     def run_phase(self):#, num_generations_per_phase: int=1):\n",
    "#         print('RUN PHASE')\n",
    "#         while self.generation_number < self.num_generations_per_phase:\n",
    "#             best_organism = self.run_generation()\n",
    "#             print(f'FINISHED GENERATION {self.generation_number}')\n",
    "#             print(vars())\n",
    "            \n",
    "#             if self.verbose:\n",
    "#                 print(f'FINISHED generation {self.generation_number}. Best fitness = {best_organism.fitness}')\n",
    "            \n",
    "#         return self.population[0] #best_organism\n",
    "        \n",
    "#             return self.population[0]"
   ]
  },
  {
   "cell_type": "code",
   "execution_count": null,
   "metadata": {},
   "outputs": [],
   "source": []
  }
 ],
 "metadata": {
  "kernelspec": {
   "display_name": "Python 3",
   "language": "python",
   "name": "python3"
  },
  "language_info": {
   "codemirror_mode": {
    "name": "ipython",
    "version": 3
   },
   "file_extension": ".py",
   "mimetype": "text/x-python",
   "name": "python",
   "nbconvert_exporter": "python",
   "pygments_lexer": "ipython3",
   "version": "3.7.9"
  }
 },
 "nbformat": 4,
 "nbformat_minor": 4
}
