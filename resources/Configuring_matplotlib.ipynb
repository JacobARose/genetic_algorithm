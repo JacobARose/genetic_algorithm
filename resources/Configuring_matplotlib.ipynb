{
 "cells": [
  {
   "cell_type": "markdown",
   "metadata": {},
   "source": [
    "# Configuring matplotlib parameters"
   ]
  },
  {
   "cell_type": "code",
   "execution_count": 2,
   "metadata": {},
   "outputs": [
    {
     "name": "stdout",
     "output_type": "stream",
     "text": [
      "/home/jacob/.config/matplotlib\n"
     ]
    }
   ],
   "source": [
    "import matplotlib\n",
    "cfg_dir = matplotlib.get_configdir()\n",
    "print(cfg_dir)"
   ]
  },
  {
   "cell_type": "code",
   "execution_count": 3,
   "metadata": {},
   "outputs": [
    {
     "data": {
      "text/plain": [
       "['stylelib']"
      ]
     },
     "execution_count": 3,
     "metadata": {},
     "output_type": "execute_result"
    }
   ],
   "source": [
    "import os\n",
    "\n",
    "os.listdir(cfg_dir)"
   ]
  },
  {
   "cell_type": "code",
   "execution_count": 5,
   "metadata": {},
   "outputs": [
    {
     "data": {
      "text/plain": [
       "['pgf.mplstyle',\n",
       " 'science.mplstyle',\n",
       " 'cjk-tc-font.mplstyle',\n",
       " 'std-colors.mplstyle',\n",
       " 'ieee.mplstyle',\n",
       " 'bright.mplstyle',\n",
       " 'no-latex.mplstyle',\n",
       " 'notebook.mplstyle',\n",
       " 'high-contrast.mplstyle',\n",
       " 'vibrant.mplstyle',\n",
       " 'cjk-sc-font.mplstyle',\n",
       " 'scatter.mplstyle',\n",
       " 'grid.mplstyle',\n",
       " 'cjk-jp-font.mplstyle',\n",
       " 'muted.mplstyle',\n",
       " 'high-vis.mplstyle',\n",
       " 'cjk-kr-font.mplstyle',\n",
       " 'light.mplstyle',\n",
       " 'retro.mplstyle']"
      ]
     },
     "execution_count": 5,
     "metadata": {},
     "output_type": "execute_result"
    }
   ],
   "source": [
    "\n",
    "os.listdir(os.path.join(cfg_dir,'stylelib'))"
   ]
  },
  {
   "cell_type": "code",
   "execution_count": null,
   "metadata": {},
   "outputs": [],
   "source": [
    "import matplotlib.font_manager as fm\n",
    "fm._rebuild()"
   ]
  },
  {
   "cell_type": "code",
   "execution_count": null,
   "metadata": {},
   "outputs": [],
   "source": [
    "!pip install SciencePlots\n",
    "import matplotlib.pyplot as plt\n",
    "plt.style.reload_library()\n",
    "plt.style.use('science')"
   ]
  },
  {
   "cell_type": "code",
   "execution_count": null,
   "metadata": {},
   "outputs": [],
   "source": [
    "import matplotlib.pyplot as plt \n",
    "plt.style.use('science')\n",
    "plt.rcParams.update({\n",
    "    \"font.family\": \"serif\",   # specify font family here\n",
    "    \"font.serif\": [\"Times\"],  # specify font here\n",
    "    \"font.size\":11})"
   ]
  }
 ],
 "metadata": {
  "kernelspec": {
   "display_name": "Python 3",
   "language": "python",
   "name": "python3"
  },
  "language_info": {
   "codemirror_mode": {
    "name": "ipython",
    "version": 3
   },
   "file_extension": ".py",
   "mimetype": "text/x-python",
   "name": "python",
   "nbconvert_exporter": "python",
   "pygments_lexer": "ipython3",
   "version": "3.7.9"
  }
 },
 "nbformat": 4,
 "nbformat_minor": 4
}
